{
 "cells": [
  {
   "cell_type": "code",
   "execution_count": 35,
   "metadata": {},
   "outputs": [],
   "source": [
    "import pandas as pd\n",
    "\n",
    "import requests\n",
    "from bs4 import BeautifulSoup"
   ]
  },
  {
   "cell_type": "code",
   "execution_count": 36,
   "metadata": {},
   "outputs": [],
   "source": [
    "# url = \"https://www.boxofficemojo.com/intl/?ref_=bo_nb_ydw_tab\"\n",
    "url2 = \"https://www.boxofficemojo.com/year/world/2019/\"\n",
    "res = requests.get(url)\n"
   ]
  },
  {
   "cell_type": "code",
   "execution_count": 37,
   "metadata": {},
   "outputs": [],
   "source": [
    "#print(res.raise_for_status())#raise an error for unsucessfull status\n",
    "soup = BeautifulSoup(res.text)#beautifulSoup-python package for parsing HTML and XML\n"
   ]
  },
  {
   "cell_type": "code",
   "execution_count": 38,
   "metadata": {},
   "outputs": [],
   "source": [
    "#print(soup)"
   ]
  },
  {
   "cell_type": "code",
   "execution_count": 39,
   "metadata": {},
   "outputs": [],
   "source": [
    "import time"
   ]
  },
  {
   "cell_type": "code",
   "execution_count": 40,
   "metadata": {},
   "outputs": [],
   "source": [
    "#for intslling selenium-sudo pip install selenium-in Terminal and then restart the kernal\n",
    "from selenium import webdriver\n",
    "from selenium.webdriver.chrome.options import Options\n",
    "# from selenium.webdriver.common.action_chains import ActionChains"
   ]
  },
  {
   "cell_type": "code",
   "execution_count": 41,
   "metadata": {},
   "outputs": [],
   "source": [
    "options = Options() "
   ]
  },
  {
   "cell_type": "code",
   "execution_count": 42,
   "metadata": {},
   "outputs": [],
   "source": [
    "# tell selenium where the chromedriver executable is located\n",
    "chrome_path = \"/Users/srikanthgungi/Downloads/chromedriver\""
   ]
  },
  {
   "cell_type": "code",
   "execution_count": 43,
   "metadata": {},
   "outputs": [],
   "source": [
    "# set the window size\n",
    "options.add_argument('--window-size=500,300')\n",
    "# initialize the driver\n",
    "driver = webdriver.Chrome(chrome_path,\n",
    "                          options=options)"
   ]
  },
  {
   "cell_type": "code",
   "execution_count": 44,
   "metadata": {},
   "outputs": [],
   "source": [
    "driver.get(url)\n",
    "time.sleep(15)"
   ]
  },
  {
   "cell_type": "code",
   "execution_count": 20,
   "metadata": {},
   "outputs": [],
   "source": [
    "table_weekends = driver.find_element_by_xpath('//*[@id=\"table\"]/div/table')\n",
    "#-error-element = driver.find_element_by_xpath(\"//*[@id=\"age\"]\")"
   ]
  },
  {
   "cell_type": "code",
   "execution_count": 14,
   "metadata": {},
   "outputs": [],
   "source": [
    "# element.click()"
   ]
  },
  {
   "cell_type": "code",
   "execution_count": 15,
   "metadata": {},
   "outputs": [],
   "source": [
    "# element.send_keys('50')"
   ]
  },
  {
   "cell_type": "code",
   "execution_count": 30,
   "metadata": {},
   "outputs": [
    {
     "data": {
      "text/html": [
       "<div>\n",
       "<style scoped>\n",
       "    .dataframe tbody tr th:only-of-type {\n",
       "        vertical-align: middle;\n",
       "    }\n",
       "\n",
       "    .dataframe tbody tr th {\n",
       "        vertical-align: top;\n",
       "    }\n",
       "\n",
       "    .dataframe thead tr th {\n",
       "        text-align: left;\n",
       "    }\n",
       "</style>\n",
       "<table border=\"1\" class=\"dataframe\">\n",
       "  <thead>\n",
       "    <tr>\n",
       "      <th></th>\n",
       "      <th>Area</th>\n",
       "      <th>Weekend</th>\n",
       "      <th>Releases</th>\n",
       "      <th>#1 Release</th>\n",
       "      <th>Distributor</th>\n",
       "      <th>Weekend Gross</th>\n",
       "    </tr>\n",
       "    <tr>\n",
       "      <th></th>\n",
       "      <th>2020 Week 9</th>\n",
       "      <th>2020 Week 9</th>\n",
       "      <th>2020 Week 9</th>\n",
       "      <th>2020 Week 9</th>\n",
       "      <th>2020 Week 9</th>\n",
       "      <th>2020 Week 9</th>\n",
       "    </tr>\n",
       "  </thead>\n",
       "  <tbody>\n",
       "    <tr>\n",
       "      <td>0</td>\n",
       "      <td>Australia</td>\n",
       "      <td>Feb 27-Mar 1</td>\n",
       "      <td>37</td>\n",
       "      <td>The Invisible Man</td>\n",
       "      <td>Universal Pictures International (UPI)</td>\n",
       "      <td>$1,645,334</td>\n",
       "    </tr>\n",
       "    <tr>\n",
       "      <td>1</td>\n",
       "      <td>Vietnam</td>\n",
       "      <td>Feb 28-Mar 1</td>\n",
       "      <td>19</td>\n",
       "      <td>The Invisible Man</td>\n",
       "      <td>Universal Pictures International (UPI)</td>\n",
       "      <td>$298,476</td>\n",
       "    </tr>\n",
       "    <tr>\n",
       "      <td>2</td>\n",
       "      <td>Czech Republic</td>\n",
       "      <td>Feb 27-Mar 1</td>\n",
       "      <td>19</td>\n",
       "      <td>Sonic the Hedgehog</td>\n",
       "      <td>Universal Pictures International (UPI)</td>\n",
       "      <td>$265,677</td>\n",
       "    </tr>\n",
       "    <tr>\n",
       "      <td>3</td>\n",
       "      <td>Norway</td>\n",
       "      <td>Feb 28-Mar 1</td>\n",
       "      <td>19</td>\n",
       "      <td>Fjols til Fjells</td>\n",
       "      <td>Nordisk Film</td>\n",
       "      <td>$227,468</td>\n",
       "    </tr>\n",
       "    <tr>\n",
       "      <td>4</td>\n",
       "      <td>South Africa</td>\n",
       "      <td>Feb 28-Mar 1</td>\n",
       "      <td>25</td>\n",
       "      <td>Sonic the Hedgehog</td>\n",
       "      <td>United International Pictures (UIP)</td>\n",
       "      <td>$184,670</td>\n",
       "    </tr>\n",
       "    <tr>\n",
       "      <td>...</td>\n",
       "      <td>...</td>\n",
       "      <td>...</td>\n",
       "      <td>...</td>\n",
       "      <td>...</td>\n",
       "      <td>...</td>\n",
       "      <td>...</td>\n",
       "    </tr>\n",
       "    <tr>\n",
       "      <td>77</td>\n",
       "      <td>Nicaragua</td>\n",
       "      <td>Feb 20-23</td>\n",
       "      <td>1</td>\n",
       "      <td>Dark Waters</td>\n",
       "      <td>-</td>\n",
       "      <td>$1,577</td>\n",
       "    </tr>\n",
       "    <tr>\n",
       "      <td>78</td>\n",
       "      <td>Bangladesh</td>\n",
       "      <td>Feb 21-23</td>\n",
       "      <td>2</td>\n",
       "      <td>Knives Out</td>\n",
       "      <td>Blockbuster Cinemas</td>\n",
       "      <td>$435</td>\n",
       "    </tr>\n",
       "    <tr>\n",
       "      <td>79</td>\n",
       "      <td>Sri Lanka</td>\n",
       "      <td>Feb 21-23</td>\n",
       "      <td>1</td>\n",
       "      <td>Bombshell</td>\n",
       "      <td>-</td>\n",
       "      <td>$319</td>\n",
       "    </tr>\n",
       "    <tr>\n",
       "      <td>80</td>\n",
       "      <td>2020 Week 7</td>\n",
       "      <td>2020 Week 7</td>\n",
       "      <td>2020 Week 7</td>\n",
       "      <td>2020 Week 7</td>\n",
       "      <td>2020 Week 7</td>\n",
       "      <td>2020 Week 7</td>\n",
       "    </tr>\n",
       "    <tr>\n",
       "      <td>81</td>\n",
       "      <td>Ecuador</td>\n",
       "      <td>Feb 14-16</td>\n",
       "      <td>8</td>\n",
       "      <td>The Grudge</td>\n",
       "      <td>Sony Pictures Releasing</td>\n",
       "      <td>$104,356</td>\n",
       "    </tr>\n",
       "  </tbody>\n",
       "</table>\n",
       "<p>82 rows × 6 columns</p>\n",
       "</div>"
      ],
      "text/plain": [
       "              Area       Weekend     Releases          #1 Release  \\\n",
       "       2020 Week 9   2020 Week 9  2020 Week 9         2020 Week 9   \n",
       "0        Australia  Feb 27-Mar 1           37   The Invisible Man   \n",
       "1          Vietnam  Feb 28-Mar 1           19   The Invisible Man   \n",
       "2   Czech Republic  Feb 27-Mar 1           19  Sonic the Hedgehog   \n",
       "3           Norway  Feb 28-Mar 1           19    Fjols til Fjells   \n",
       "4     South Africa  Feb 28-Mar 1           25  Sonic the Hedgehog   \n",
       "..             ...           ...          ...                 ...   \n",
       "77       Nicaragua     Feb 20-23            1         Dark Waters   \n",
       "78      Bangladesh     Feb 21-23            2          Knives Out   \n",
       "79       Sri Lanka     Feb 21-23            1           Bombshell   \n",
       "80     2020 Week 7   2020 Week 7  2020 Week 7         2020 Week 7   \n",
       "81         Ecuador     Feb 14-16            8          The Grudge   \n",
       "\n",
       "                               Distributor Weekend Gross  \n",
       "                               2020 Week 9   2020 Week 9  \n",
       "0   Universal Pictures International (UPI)    $1,645,334  \n",
       "1   Universal Pictures International (UPI)      $298,476  \n",
       "2   Universal Pictures International (UPI)      $265,677  \n",
       "3                             Nordisk Film      $227,468  \n",
       "4      United International Pictures (UIP)      $184,670  \n",
       "..                                     ...           ...  \n",
       "77                                       -        $1,577  \n",
       "78                     Blockbuster Cinemas          $435  \n",
       "79                                       -          $319  \n",
       "80                             2020 Week 7   2020 Week 7  \n",
       "81                 Sony Pictures Releasing      $104,356  \n",
       "\n",
       "[82 rows x 6 columns]"
      ]
     },
     "execution_count": 30,
     "metadata": {},
     "output_type": "execute_result"
    }
   ],
   "source": [
    "#pd.read_html(url)[0]"
   ]
  },
  {
   "cell_type": "code",
   "execution_count": 46,
   "metadata": {},
   "outputs": [],
   "source": [
    "df2019 = pd.read_html(url2)[0]"
   ]
  },
  {
   "cell_type": "code",
   "execution_count": 48,
   "metadata": {},
   "outputs": [],
   "source": [
    "df2019.to_csv('2019_world_wide_box_office.csv')"
   ]
  },
  {
   "cell_type": "code",
   "execution_count": null,
   "metadata": {},
   "outputs": [],
   "source": []
  }
 ],
 "metadata": {
  "kernelspec": {
   "display_name": "Python 3",
   "language": "python",
   "name": "python3"
  },
  "language_info": {
   "codemirror_mode": {
    "name": "ipython",
    "version": 3
   },
   "file_extension": ".py",
   "mimetype": "text/x-python",
   "name": "python",
   "nbconvert_exporter": "python",
   "pygments_lexer": "ipython3",
   "version": "3.6.9"
  }
 },
 "nbformat": 4,
 "nbformat_minor": 2
}

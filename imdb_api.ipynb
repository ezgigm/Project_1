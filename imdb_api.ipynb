{
 "cells": [
  {
   "cell_type": "code",
   "execution_count": 1,
   "metadata": {},
   "outputs": [
    {
     "name": "stdout",
     "output_type": "stream",
     "text": [
      "Collecting git+https://github.com/alberanid/imdbpy\n",
      "  Cloning https://github.com/alberanid/imdbpy to /private/var/folders/d6/1mmkdy455ms4c67r8p7lfd8w0000gn/T/pip-req-build-4grj8o2n\n",
      "  Running command git clone -q https://github.com/alberanid/imdbpy /private/var/folders/d6/1mmkdy455ms4c67r8p7lfd8w0000gn/T/pip-req-build-4grj8o2n\n",
      "Requirement already satisfied: SQLAlchemy in /Users/ezgi/opt/anaconda3/lib/python3.7/site-packages (from IMDbPY==6.9.dev20200302) (1.3.9)\n",
      "Requirement already satisfied: lxml in /Users/ezgi/opt/anaconda3/lib/python3.7/site-packages (from IMDbPY==6.9.dev20200302) (4.4.1)\n",
      "Building wheels for collected packages: IMDbPY\n",
      "  Building wheel for IMDbPY (setup.py) ... \u001b[?25ldone\n",
      "\u001b[?25h  Created wheel for IMDbPY: filename=IMDbPY-6.9.dev20200302-cp37-none-any.whl size=298507 sha256=b0f7d82c78ddc0d3581be4729ae07bb00709885a4a0c87809b6b4a0328534fcd\n",
      "  Stored in directory: /private/var/folders/d6/1mmkdy455ms4c67r8p7lfd8w0000gn/T/pip-ephem-wheel-cache-w2umv6rh/wheels/0f/09/61/190df5e0276765680540f1562f2abca80e725a7e48595e993f\n",
      "Successfully built IMDbPY\n",
      "Installing collected packages: IMDbPY\n",
      "Successfully installed IMDbPY-6.9.dev20200302\n",
      "Note: you may need to restart the kernel to use updated packages.\n"
     ]
    }
   ],
   "source": [
    "pip install git+https://github.com/alberanid/imdbpy"
   ]
  },
  {
   "cell_type": "code",
   "execution_count": 1,
   "metadata": {},
   "outputs": [],
   "source": [
    "from imdb import IMDb"
   ]
  },
  {
   "cell_type": "code",
   "execution_count": 2,
   "metadata": {},
   "outputs": [],
   "source": [
    "ia = IMDb()"
   ]
  },
  {
   "cell_type": "code",
   "execution_count": 3,
   "metadata": {},
   "outputs": [
    {
     "ename": "AttributeError",
     "evalue": "'IMDbHTTPAccessSystem' object has no attribute 'head'",
     "output_type": "error",
     "traceback": [
      "\u001b[0;31m---------------------------------------------------------------------------\u001b[0m",
      "\u001b[0;31mAttributeError\u001b[0m                            Traceback (most recent call last)",
      "\u001b[0;32m<ipython-input-3-48af8b5035c9>\u001b[0m in \u001b[0;36m<module>\u001b[0;34m\u001b[0m\n\u001b[0;32m----> 1\u001b[0;31m \u001b[0mia\u001b[0m\u001b[0;34m.\u001b[0m\u001b[0mhead\u001b[0m\u001b[0;34m(\u001b[0m\u001b[0;34m)\u001b[0m\u001b[0;34m\u001b[0m\u001b[0;34m\u001b[0m\u001b[0m\n\u001b[0m",
      "\u001b[0;31mAttributeError\u001b[0m: 'IMDbHTTPAccessSystem' object has no attribute 'head'"
     ]
    }
   ],
   "source": []
  },
  {
   "cell_type": "code",
   "execution_count": null,
   "metadata": {},
   "outputs": [],
   "source": []
  }
 ],
 "metadata": {
  "kernelspec": {
   "display_name": "learn-env",
   "language": "python",
   "name": "learn-env"
  },
  "language_info": {
   "codemirror_mode": {
    "name": "ipython",
    "version": 3
   },
   "file_extension": ".py",
   "mimetype": "text/x-python",
   "name": "python",
   "nbconvert_exporter": "python",
   "pygments_lexer": "ipython3",
   "version": "3.7.4"
  }
 },
 "nbformat": 4,
 "nbformat_minor": 2
}

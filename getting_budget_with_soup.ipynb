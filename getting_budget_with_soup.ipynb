{
 "cells": [
  {
   "cell_type": "code",
   "execution_count": 1,
   "metadata": {},
   "outputs": [],
   "source": [
    "import pandas as pd\n",
    "\n",
    "import requests\n",
    "from bs4 import BeautifulSoup"
   ]
  },
  {
   "cell_type": "code",
   "execution_count": 206,
   "metadata": {},
   "outputs": [],
   "source": [
    "url = \"https://www.the-numbers.com/movie/budgets/all/1401\"\n",
    "res = requests.get(url)"
   ]
  },
  {
   "cell_type": "code",
   "execution_count": 207,
   "metadata": {},
   "outputs": [
    {
     "name": "stdout",
     "output_type": "stream",
     "text": [
      "None\n"
     ]
    },
    {
     "data": {
      "text/plain": [
       "bs4.BeautifulSoup"
      ]
     },
     "execution_count": 207,
     "metadata": {},
     "output_type": "execute_result"
    }
   ],
   "source": [
    "print(res.raise_for_status())\n",
    "soup = BeautifulSoup(res.text)\n",
    "type(soup)"
   ]
  },
  {
   "cell_type": "code",
   "execution_count": 208,
   "metadata": {},
   "outputs": [],
   "source": [
    "movies = soup.findAll('tr')"
   ]
  },
  {
   "cell_type": "code",
   "execution_count": 209,
   "metadata": {},
   "outputs": [
    {
     "data": {
      "text/plain": [
       "'Jan 25, 2002'"
      ]
     },
     "execution_count": 209,
     "metadata": {},
     "output_type": "execute_result"
    }
   ],
   "source": [
    "movies[1].findAll('td')[1].string"
   ]
  },
  {
   "cell_type": "code",
   "execution_count": 210,
   "metadata": {},
   "outputs": [
    {
     "data": {
      "text/plain": [
       "101"
      ]
     },
     "execution_count": 210,
     "metadata": {},
     "output_type": "execute_result"
    }
   ],
   "source": [
    "len(movies)"
   ]
  },
  {
   "cell_type": "code",
   "execution_count": 211,
   "metadata": {},
   "outputs": [
    {
     "data": {
      "text/html": [
       "<div>\n",
       "<style scoped>\n",
       "    .dataframe tbody tr th:only-of-type {\n",
       "        vertical-align: middle;\n",
       "    }\n",
       "\n",
       "    .dataframe tbody tr th {\n",
       "        vertical-align: top;\n",
       "    }\n",
       "\n",
       "    .dataframe thead th {\n",
       "        text-align: right;\n",
       "    }\n",
       "</style>\n",
       "<table border=\"1\" class=\"dataframe\">\n",
       "  <thead>\n",
       "    <tr style=\"text-align: right;\">\n",
       "      <th></th>\n",
       "      <th>Date</th>\n",
       "      <th>Name</th>\n",
       "      <th>Budget</th>\n",
       "    </tr>\n",
       "  </thead>\n",
       "  <tbody>\n",
       "    <tr>\n",
       "      <td>0</td>\n",
       "      <td>Jan 25, 2002</td>\n",
       "      <td>The Mothman Prophecies</td>\n",
       "      <td>$42,000,000</td>\n",
       "    </tr>\n",
       "    <tr>\n",
       "      <td>1</td>\n",
       "      <td>Jul 14, 1989</td>\n",
       "      <td>Licence to Kill</td>\n",
       "      <td>$42,000,000</td>\n",
       "    </tr>\n",
       "    <tr>\n",
       "      <td>2</td>\n",
       "      <td>Dec 20, 2018</td>\n",
       "      <td>Holmes &amp; Watson</td>\n",
       "      <td>$42,000,000</td>\n",
       "    </tr>\n",
       "    <tr>\n",
       "      <td>3</td>\n",
       "      <td>Jan 27, 2012</td>\n",
       "      <td>One for the Money</td>\n",
       "      <td>$42,000,000</td>\n",
       "    </tr>\n",
       "    <tr>\n",
       "      <td>4</td>\n",
       "      <td>Mar 9, 2001</td>\n",
       "      <td>15 Minutes</td>\n",
       "      <td>$42,000,000</td>\n",
       "    </tr>\n",
       "    <tr>\n",
       "      <td>...</td>\n",
       "      <td>...</td>\n",
       "      <td>...</td>\n",
       "      <td>...</td>\n",
       "    </tr>\n",
       "    <tr>\n",
       "      <td>95</td>\n",
       "      <td>Aug 12, 2011</td>\n",
       "      <td>Final Destination 5</td>\n",
       "      <td>$40,000,000</td>\n",
       "    </tr>\n",
       "    <tr>\n",
       "      <td>96</td>\n",
       "      <td>Nov 9, 2018</td>\n",
       "      <td>Widows</td>\n",
       "      <td>$40,000,000</td>\n",
       "    </tr>\n",
       "    <tr>\n",
       "      <td>97</td>\n",
       "      <td>Apr 8, 2005</td>\n",
       "      <td>Fever Pitch</td>\n",
       "      <td>$40,000,000</td>\n",
       "    </tr>\n",
       "    <tr>\n",
       "      <td>98</td>\n",
       "      <td>Dec 25, 2007</td>\n",
       "      <td>Aliens vs. Predator - Requiem</td>\n",
       "      <td>$40,000,000</td>\n",
       "    </tr>\n",
       "    <tr>\n",
       "      <td>99</td>\n",
       "      <td>Dec 25, 2007</td>\n",
       "      <td>The Water Horse: Legend of the Deep</td>\n",
       "      <td>$40,000,000</td>\n",
       "    </tr>\n",
       "  </tbody>\n",
       "</table>\n",
       "<p>100 rows × 3 columns</p>\n",
       "</div>"
      ],
      "text/plain": [
       "            Date                                 Name        Budget\n",
       "0   Jan 25, 2002               The Mothman Prophecies   $42,000,000\n",
       "1   Jul 14, 1989                      Licence to Kill   $42,000,000\n",
       "2   Dec 20, 2018                      Holmes & Watson   $42,000,000\n",
       "3   Jan 27, 2012                    One for the Money   $42,000,000\n",
       "4    Mar 9, 2001                           15 Minutes   $42,000,000\n",
       "..           ...                                  ...           ...\n",
       "95  Aug 12, 2011                  Final Destination 5   $40,000,000\n",
       "96   Nov 9, 2018                               Widows   $40,000,000\n",
       "97   Apr 8, 2005                          Fever Pitch   $40,000,000\n",
       "98  Dec 25, 2007        Aliens vs. Predator - Requiem   $40,000,000\n",
       "99  Dec 25, 2007  The Water Horse: Legend of the Deep   $40,000,000\n",
       "\n",
       "[100 rows x 3 columns]"
      ]
     },
     "execution_count": 211,
     "metadata": {},
     "output_type": "execute_result"
    }
   ],
   "source": [
    "dates = []\n",
    "names = []\n",
    "budget = []\n",
    "\n",
    "for i in list(range(1, 101)):\n",
    "    dates.append((movies[i].findAll('td')[1].string))\n",
    "    names.append((movies[i].findAll('td')[2].string))\n",
    "    budget.append((movies[i].findAll('td')[3].string))\n",
    "    \n",
    "# dates    \n",
    "# names\n",
    "# budget\n",
    "\n",
    "df = pd.DataFrame(list(zip(dates, names,budget)), \n",
    "               columns =['Date', 'Name','Budget']) \n",
    "df \n"
   ]
  },
  {
   "cell_type": "code",
   "execution_count": 212,
   "metadata": {},
   "outputs": [],
   "source": [
    "\n",
    "df.to_csv('budget_page15.csv')"
   ]
  },
  {
   "cell_type": "code",
   "execution_count": 213,
   "metadata": {},
   "outputs": [],
   "source": [
    "df1 = pd.read_csv('budget_page1.csv')"
   ]
  },
  {
   "cell_type": "code",
   "execution_count": 215,
   "metadata": {},
   "outputs": [],
   "source": [
    "df2 = pd.read_csv('budget_page2.csv')"
   ]
  },
  {
   "cell_type": "code",
   "execution_count": 216,
   "metadata": {},
   "outputs": [],
   "source": [
    "df3 = pd.read_csv('budget_page3.csv')"
   ]
  },
  {
   "cell_type": "code",
   "execution_count": 217,
   "metadata": {},
   "outputs": [],
   "source": [
    "df4 = pd.read_csv('budget_page4.csv')"
   ]
  },
  {
   "cell_type": "code",
   "execution_count": 218,
   "metadata": {},
   "outputs": [],
   "source": [
    "df5 = pd.read_csv('budget_page5.csv')"
   ]
  },
  {
   "cell_type": "code",
   "execution_count": 219,
   "metadata": {},
   "outputs": [],
   "source": [
    "df6 = pd.read_csv('budget_page6.csv')"
   ]
  },
  {
   "cell_type": "code",
   "execution_count": 220,
   "metadata": {},
   "outputs": [],
   "source": [
    "df7 = pd.read_csv('budget_page7.csv')"
   ]
  },
  {
   "cell_type": "code",
   "execution_count": 221,
   "metadata": {},
   "outputs": [],
   "source": [
    "df8 = pd.read_csv('budget_page8.csv')"
   ]
  },
  {
   "cell_type": "code",
   "execution_count": 222,
   "metadata": {},
   "outputs": [],
   "source": [
    "df9 = pd.read_csv('budget_page9.csv')"
   ]
  },
  {
   "cell_type": "code",
   "execution_count": 223,
   "metadata": {},
   "outputs": [],
   "source": [
    "df10 = pd.read_csv('budget_page10.csv')"
   ]
  },
  {
   "cell_type": "code",
   "execution_count": 224,
   "metadata": {},
   "outputs": [],
   "source": [
    "df11 = pd.read_csv('budget_page11.csv')"
   ]
  },
  {
   "cell_type": "code",
   "execution_count": 225,
   "metadata": {},
   "outputs": [],
   "source": [
    "df12 = pd.read_csv('budget_page12.csv')"
   ]
  },
  {
   "cell_type": "code",
   "execution_count": 226,
   "metadata": {},
   "outputs": [],
   "source": [
    "df13 = pd.read_csv('budget_page13.csv')"
   ]
  },
  {
   "cell_type": "code",
   "execution_count": 227,
   "metadata": {},
   "outputs": [],
   "source": [
    "df14 = pd.read_csv('budget_page14.csv')"
   ]
  },
  {
   "cell_type": "code",
   "execution_count": 228,
   "metadata": {},
   "outputs": [],
   "source": [
    "df15= pd.read_csv('budget_page15.csv')"
   ]
  },
  {
   "cell_type": "code",
   "execution_count": 229,
   "metadata": {},
   "outputs": [],
   "source": [
    "to_concat = [df1, df2, df3, df4, df5, df6, df7, df8, df9, df10, df11, df12, df13, df14, df15]\n",
    "combined_df = pd.concat(to_concat)"
   ]
  },
  {
   "cell_type": "code",
   "execution_count": 233,
   "metadata": {},
   "outputs": [
    {
     "data": {
      "text/html": [
       "<div>\n",
       "<style scoped>\n",
       "    .dataframe tbody tr th:only-of-type {\n",
       "        vertical-align: middle;\n",
       "    }\n",
       "\n",
       "    .dataframe tbody tr th {\n",
       "        vertical-align: top;\n",
       "    }\n",
       "\n",
       "    .dataframe thead th {\n",
       "        text-align: right;\n",
       "    }\n",
       "</style>\n",
       "<table border=\"1\" class=\"dataframe\">\n",
       "  <thead>\n",
       "    <tr style=\"text-align: right;\">\n",
       "      <th></th>\n",
       "      <th>Unnamed: 0</th>\n",
       "      <th>Date</th>\n",
       "      <th>Name</th>\n",
       "      <th>Budget</th>\n",
       "    </tr>\n",
       "  </thead>\n",
       "  <tbody>\n",
       "    <tr>\n",
       "      <td>95</td>\n",
       "      <td>95</td>\n",
       "      <td>Aug 12, 2011</td>\n",
       "      <td>Final Destination 5</td>\n",
       "      <td>$40,000,000</td>\n",
       "    </tr>\n",
       "    <tr>\n",
       "      <td>96</td>\n",
       "      <td>96</td>\n",
       "      <td>Nov 9, 2018</td>\n",
       "      <td>Widows</td>\n",
       "      <td>$40,000,000</td>\n",
       "    </tr>\n",
       "    <tr>\n",
       "      <td>97</td>\n",
       "      <td>97</td>\n",
       "      <td>Apr 8, 2005</td>\n",
       "      <td>Fever Pitch</td>\n",
       "      <td>$40,000,000</td>\n",
       "    </tr>\n",
       "    <tr>\n",
       "      <td>98</td>\n",
       "      <td>98</td>\n",
       "      <td>Dec 25, 2007</td>\n",
       "      <td>Aliens vs. Predator - Requiem</td>\n",
       "      <td>$40,000,000</td>\n",
       "    </tr>\n",
       "    <tr>\n",
       "      <td>99</td>\n",
       "      <td>99</td>\n",
       "      <td>Dec 25, 2007</td>\n",
       "      <td>The Water Horse: Legend of the Deep</td>\n",
       "      <td>$40,000,000</td>\n",
       "    </tr>\n",
       "  </tbody>\n",
       "</table>\n",
       "</div>"
      ],
      "text/plain": [
       "    Unnamed: 0          Date                                 Name  \\\n",
       "95          95  Aug 12, 2011                  Final Destination 5   \n",
       "96          96   Nov 9, 2018                               Widows   \n",
       "97          97   Apr 8, 2005                          Fever Pitch   \n",
       "98          98  Dec 25, 2007        Aliens vs. Predator - Requiem   \n",
       "99          99  Dec 25, 2007  The Water Horse: Legend of the Deep   \n",
       "\n",
       "          Budget  \n",
       "95   $40,000,000  \n",
       "96   $40,000,000  \n",
       "97   $40,000,000  \n",
       "98   $40,000,000  \n",
       "99   $40,000,000  "
      ]
     },
     "execution_count": 233,
     "metadata": {},
     "output_type": "execute_result"
    }
   ],
   "source": [
    "combined_df.tail()"
   ]
  },
  {
   "cell_type": "code",
   "execution_count": 234,
   "metadata": {},
   "outputs": [
    {
     "data": {
      "text/html": [
       "<div>\n",
       "<style scoped>\n",
       "    .dataframe tbody tr th:only-of-type {\n",
       "        vertical-align: middle;\n",
       "    }\n",
       "\n",
       "    .dataframe tbody tr th {\n",
       "        vertical-align: top;\n",
       "    }\n",
       "\n",
       "    .dataframe thead th {\n",
       "        text-align: right;\n",
       "    }\n",
       "</style>\n",
       "<table border=\"1\" class=\"dataframe\">\n",
       "  <thead>\n",
       "    <tr style=\"text-align: right;\">\n",
       "      <th></th>\n",
       "      <th>index</th>\n",
       "      <th>Unnamed: 0</th>\n",
       "      <th>Date</th>\n",
       "      <th>Name</th>\n",
       "      <th>Budget</th>\n",
       "    </tr>\n",
       "  </thead>\n",
       "  <tbody>\n",
       "    <tr>\n",
       "      <td>0</td>\n",
       "      <td>0</td>\n",
       "      <td>0</td>\n",
       "      <td>Apr 23, 2019</td>\n",
       "      <td>Avengers: Endgame</td>\n",
       "      <td>$400,000,000</td>\n",
       "    </tr>\n",
       "    <tr>\n",
       "      <td>1</td>\n",
       "      <td>1</td>\n",
       "      <td>1</td>\n",
       "      <td>May 20, 2011</td>\n",
       "      <td>Pirates of the Caribbean: On Stranger Tides</td>\n",
       "      <td>$379,000,000</td>\n",
       "    </tr>\n",
       "    <tr>\n",
       "      <td>2</td>\n",
       "      <td>2</td>\n",
       "      <td>2</td>\n",
       "      <td>Apr 22, 2015</td>\n",
       "      <td>Avengers: Age of Ultron</td>\n",
       "      <td>$365,000,000</td>\n",
       "    </tr>\n",
       "    <tr>\n",
       "      <td>3</td>\n",
       "      <td>3</td>\n",
       "      <td>3</td>\n",
       "      <td>Dec 16, 2015</td>\n",
       "      <td>Star Wars Ep. VII: The Force Awakens</td>\n",
       "      <td>$306,000,000</td>\n",
       "    </tr>\n",
       "    <tr>\n",
       "      <td>4</td>\n",
       "      <td>4</td>\n",
       "      <td>4</td>\n",
       "      <td>Apr 25, 2018</td>\n",
       "      <td>Avengers: Infinity War</td>\n",
       "      <td>$300,000,000</td>\n",
       "    </tr>\n",
       "    <tr>\n",
       "      <td>...</td>\n",
       "      <td>...</td>\n",
       "      <td>...</td>\n",
       "      <td>...</td>\n",
       "      <td>...</td>\n",
       "      <td>...</td>\n",
       "    </tr>\n",
       "    <tr>\n",
       "      <td>1495</td>\n",
       "      <td>95</td>\n",
       "      <td>95</td>\n",
       "      <td>Aug 12, 2011</td>\n",
       "      <td>Final Destination 5</td>\n",
       "      <td>$40,000,000</td>\n",
       "    </tr>\n",
       "    <tr>\n",
       "      <td>1496</td>\n",
       "      <td>96</td>\n",
       "      <td>96</td>\n",
       "      <td>Nov 9, 2018</td>\n",
       "      <td>Widows</td>\n",
       "      <td>$40,000,000</td>\n",
       "    </tr>\n",
       "    <tr>\n",
       "      <td>1497</td>\n",
       "      <td>97</td>\n",
       "      <td>97</td>\n",
       "      <td>Apr 8, 2005</td>\n",
       "      <td>Fever Pitch</td>\n",
       "      <td>$40,000,000</td>\n",
       "    </tr>\n",
       "    <tr>\n",
       "      <td>1498</td>\n",
       "      <td>98</td>\n",
       "      <td>98</td>\n",
       "      <td>Dec 25, 2007</td>\n",
       "      <td>Aliens vs. Predator - Requiem</td>\n",
       "      <td>$40,000,000</td>\n",
       "    </tr>\n",
       "    <tr>\n",
       "      <td>1499</td>\n",
       "      <td>99</td>\n",
       "      <td>99</td>\n",
       "      <td>Dec 25, 2007</td>\n",
       "      <td>The Water Horse: Legend of the Deep</td>\n",
       "      <td>$40,000,000</td>\n",
       "    </tr>\n",
       "  </tbody>\n",
       "</table>\n",
       "<p>1500 rows × 5 columns</p>\n",
       "</div>"
      ],
      "text/plain": [
       "      index  Unnamed: 0          Date  \\\n",
       "0         0           0  Apr 23, 2019   \n",
       "1         1           1  May 20, 2011   \n",
       "2         2           2  Apr 22, 2015   \n",
       "3         3           3  Dec 16, 2015   \n",
       "4         4           4  Apr 25, 2018   \n",
       "...     ...         ...           ...   \n",
       "1495     95          95  Aug 12, 2011   \n",
       "1496     96          96   Nov 9, 2018   \n",
       "1497     97          97   Apr 8, 2005   \n",
       "1498     98          98  Dec 25, 2007   \n",
       "1499     99          99  Dec 25, 2007   \n",
       "\n",
       "                                             Name         Budget  \n",
       "0                               Avengers: Endgame   $400,000,000  \n",
       "1     Pirates of the Caribbean: On Stranger Tides   $379,000,000  \n",
       "2                         Avengers: Age of Ultron   $365,000,000  \n",
       "3            Star Wars Ep. VII: The Force Awakens   $306,000,000  \n",
       "4                          Avengers: Infinity War   $300,000,000  \n",
       "...                                           ...            ...  \n",
       "1495                          Final Destination 5    $40,000,000  \n",
       "1496                                       Widows    $40,000,000  \n",
       "1497                                  Fever Pitch    $40,000,000  \n",
       "1498                Aliens vs. Predator - Requiem    $40,000,000  \n",
       "1499          The Water Horse: Legend of the Deep    $40,000,000  \n",
       "\n",
       "[1500 rows x 5 columns]"
      ]
     },
     "execution_count": 234,
     "metadata": {},
     "output_type": "execute_result"
    }
   ],
   "source": [
    "combined_df.reset_index()"
   ]
  },
  {
   "cell_type": "code",
   "execution_count": 235,
   "metadata": {},
   "outputs": [],
   "source": [
    "combined_df.to_csv('allmovies_budget.csv')"
   ]
  },
  {
   "cell_type": "code",
   "execution_count": null,
   "metadata": {},
   "outputs": [],
   "source": []
  }
 ],
 "metadata": {
  "kernelspec": {
   "display_name": "Python 3",
   "language": "python",
   "name": "python3"
  },
  "language_info": {
   "codemirror_mode": {
    "name": "ipython",
    "version": 3
   },
   "file_extension": ".py",
   "mimetype": "text/x-python",
   "name": "python",
   "nbconvert_exporter": "python",
   "pygments_lexer": "ipython3",
   "version": "3.6.9"
  }
 },
 "nbformat": 4,
 "nbformat_minor": 2
}

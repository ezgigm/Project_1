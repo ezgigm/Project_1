{
 "cells": [
  {
   "cell_type": "markdown",
   "metadata": {},
   "source": [
    "# Creating BeautifulSoup objects for HTML"
   ]
  },
  {
   "cell_type": "code",
   "execution_count": 1,
   "metadata": {},
   "outputs": [],
   "source": [
    "import pandas as pd\n",
    "\n",
    "import requests\n",
    "from bs4 import BeautifulSoup"
   ]
  },
  {
   "cell_type": "code",
   "execution_count": 2,
   "metadata": {},
   "outputs": [],
   "source": [
    "#url = \"https://www.boxofficemojo.com/intl/?ref_=bo_nb_ydw_tab\"\n",
    "#W2019=\"https://www.boxofficemojo.com/year/world/2019/\"\n",
    "#W2018=\"https://www.boxofficemojo.com/year/world/2018/\"\n",
    "#W2017=\"https://www.boxofficemojo.com/year/world/2017/\"\n",
    "#W2016=\"https://www.boxofficemojo.com/year/world/2016/\"\n",
    "W2015=\"https://www.boxofficemojo.com/year/world/2015/\"\n",
    "res = requests.get(W2015)\n",
    "\n"
   ]
  },
  {
   "cell_type": "code",
   "execution_count": 3,
   "metadata": {},
   "outputs": [
    {
     "name": "stdout",
     "output_type": "stream",
     "text": [
      "None\n"
     ]
    }
   ],
   "source": [
    "print(res.raise_for_status())#raise an error for unsucessfull status\n",
    "soup = BeautifulSoup(res.text)#beautifulSoup-python package for parsing HTML and XML\n"
   ]
  },
  {
   "cell_type": "code",
   "execution_count": 10,
   "metadata": {},
   "outputs": [],
   "source": [
    "print(soup)\n"
   ]
  },
  {
   "cell_type": "code",
   "execution_count": 11,
   "metadata": {},
   "outputs": [],
   "source": [
    "res.text #gives raw form of the HTML code"
   ]
  },
  {
   "cell_type": "code",
   "execution_count": 12,
   "metadata": {},
   "outputs": [],
   "source": [
    "print(soup.prettify())#gives a readble form of the HTML code"
   ]
  },
  {
   "cell_type": "markdown",
   "metadata": {},
   "source": [
    "# Reading HTML tables for the years 2015-2019"
   ]
  },
  {
   "cell_type": "code",
   "execution_count": 4,
   "metadata": {},
   "outputs": [
    {
     "data": {
      "text/html": [
       "<div>\n",
       "<style scoped>\n",
       "    .dataframe tbody tr th:only-of-type {\n",
       "        vertical-align: middle;\n",
       "    }\n",
       "\n",
       "    .dataframe tbody tr th {\n",
       "        vertical-align: top;\n",
       "    }\n",
       "\n",
       "    .dataframe thead th {\n",
       "        text-align: right;\n",
       "    }\n",
       "</style>\n",
       "<table border=\"1\" class=\"dataframe\">\n",
       "  <thead>\n",
       "    <tr style=\"text-align: right;\">\n",
       "      <th></th>\n",
       "      <th>Rank</th>\n",
       "      <th>Release Group</th>\n",
       "      <th>Worldwide</th>\n",
       "      <th>Domestic</th>\n",
       "      <th>%</th>\n",
       "      <th>Foreign</th>\n",
       "      <th>%.1</th>\n",
       "    </tr>\n",
       "  </thead>\n",
       "  <tbody>\n",
       "    <tr>\n",
       "      <td>0</td>\n",
       "      <td>1</td>\n",
       "      <td>Star Wars: Episode VII - The Force Awakens</td>\n",
       "      <td>$2,068,223,624</td>\n",
       "      <td>$936,662,225</td>\n",
       "      <td>45.3%</td>\n",
       "      <td>$1,131,561,399</td>\n",
       "      <td>54.7%</td>\n",
       "    </tr>\n",
       "    <tr>\n",
       "      <td>1</td>\n",
       "      <td>2</td>\n",
       "      <td>Jurassic World</td>\n",
       "      <td>$1,670,400,637</td>\n",
       "      <td>$652,270,625</td>\n",
       "      <td>39%</td>\n",
       "      <td>$1,018,130,012</td>\n",
       "      <td>61%</td>\n",
       "    </tr>\n",
       "    <tr>\n",
       "      <td>2</td>\n",
       "      <td>3</td>\n",
       "      <td>Furious 7</td>\n",
       "      <td>$1,515,047,671</td>\n",
       "      <td>$353,007,020</td>\n",
       "      <td>23.3%</td>\n",
       "      <td>$1,162,040,651</td>\n",
       "      <td>76.7%</td>\n",
       "    </tr>\n",
       "    <tr>\n",
       "      <td>3</td>\n",
       "      <td>4</td>\n",
       "      <td>Avengers: Age of Ultron</td>\n",
       "      <td>$1,402,805,868</td>\n",
       "      <td>$459,005,868</td>\n",
       "      <td>32.7%</td>\n",
       "      <td>$943,800,000</td>\n",
       "      <td>67.3%</td>\n",
       "    </tr>\n",
       "    <tr>\n",
       "      <td>4</td>\n",
       "      <td>5</td>\n",
       "      <td>Minions</td>\n",
       "      <td>$1,159,398,397</td>\n",
       "      <td>$336,045,770</td>\n",
       "      <td>29%</td>\n",
       "      <td>$823,352,627</td>\n",
       "      <td>71%</td>\n",
       "    </tr>\n",
       "    <tr>\n",
       "      <td>...</td>\n",
       "      <td>...</td>\n",
       "      <td>...</td>\n",
       "      <td>...</td>\n",
       "      <td>...</td>\n",
       "      <td>...</td>\n",
       "      <td>...</td>\n",
       "      <td>...</td>\n",
       "    </tr>\n",
       "    <tr>\n",
       "      <td>729</td>\n",
       "      <td>730</td>\n",
       "      <td>It's All So Quiet 2015 Re-release</td>\n",
       "      <td>$724</td>\n",
       "      <td>$724</td>\n",
       "      <td>100%</td>\n",
       "      <td>-</td>\n",
       "      <td>-</td>\n",
       "    </tr>\n",
       "    <tr>\n",
       "      <td>730</td>\n",
       "      <td>731</td>\n",
       "      <td>It's Hard Being Loved by Jerks 2015 Re-release</td>\n",
       "      <td>$697</td>\n",
       "      <td>$697</td>\n",
       "      <td>100%</td>\n",
       "      <td>-</td>\n",
       "      <td>-</td>\n",
       "    </tr>\n",
       "    <tr>\n",
       "      <td>731</td>\n",
       "      <td>732</td>\n",
       "      <td>The 11th Hour</td>\n",
       "      <td>$510</td>\n",
       "      <td>-</td>\n",
       "      <td>-</td>\n",
       "      <td>$510</td>\n",
       "      <td>100%</td>\n",
       "    </tr>\n",
       "    <tr>\n",
       "      <td>732</td>\n",
       "      <td>733</td>\n",
       "      <td>Paranoid Girls</td>\n",
       "      <td>$78</td>\n",
       "      <td>$78</td>\n",
       "      <td>100%</td>\n",
       "      <td>-</td>\n",
       "      <td>-</td>\n",
       "    </tr>\n",
       "    <tr>\n",
       "      <td>733</td>\n",
       "      <td>734</td>\n",
       "      <td>Confession of a Child of the Century 2015 Re-r...</td>\n",
       "      <td>$74</td>\n",
       "      <td>$74</td>\n",
       "      <td>100%</td>\n",
       "      <td>-</td>\n",
       "      <td>-</td>\n",
       "    </tr>\n",
       "  </tbody>\n",
       "</table>\n",
       "<p>734 rows × 7 columns</p>\n",
       "</div>"
      ],
      "text/plain": [
       "     Rank                                      Release Group       Worldwide  \\\n",
       "0       1         Star Wars: Episode VII - The Force Awakens  $2,068,223,624   \n",
       "1       2                                     Jurassic World  $1,670,400,637   \n",
       "2       3                                          Furious 7  $1,515,047,671   \n",
       "3       4                            Avengers: Age of Ultron  $1,402,805,868   \n",
       "4       5                                            Minions  $1,159,398,397   \n",
       "..    ...                                                ...             ...   \n",
       "729   730                  It's All So Quiet 2015 Re-release            $724   \n",
       "730   731     It's Hard Being Loved by Jerks 2015 Re-release            $697   \n",
       "731   732                                      The 11th Hour            $510   \n",
       "732   733                                     Paranoid Girls             $78   \n",
       "733   734  Confession of a Child of the Century 2015 Re-r...             $74   \n",
       "\n",
       "         Domestic      %         Foreign    %.1  \n",
       "0    $936,662,225  45.3%  $1,131,561,399  54.7%  \n",
       "1    $652,270,625    39%  $1,018,130,012    61%  \n",
       "2    $353,007,020  23.3%  $1,162,040,651  76.7%  \n",
       "3    $459,005,868  32.7%    $943,800,000  67.3%  \n",
       "4    $336,045,770    29%    $823,352,627    71%  \n",
       "..            ...    ...             ...    ...  \n",
       "729          $724   100%               -      -  \n",
       "730          $697   100%               -      -  \n",
       "731             -      -            $510   100%  \n",
       "732           $78   100%               -      -  \n",
       "733           $74   100%               -      -  \n",
       "\n",
       "[734 rows x 7 columns]"
      ]
     },
     "execution_count": 4,
     "metadata": {},
     "output_type": "execute_result"
    }
   ],
   "source": [
    "#pd.read_html(url_domestic)[0]\n",
    "#pd.read_html(W2019)[0]\n",
    "#pd.read_html(W2018)[0]\n",
    "# pd.read_html(W2017)[0]\n",
    "pd.read_html(W2015)[0] #Read HTML Tables into list of dataframe objects\n"
   ]
  },
  {
   "cell_type": "markdown",
   "metadata": {},
   "source": [
    "# Converting the collected data into CSV files for data merging and cleaning"
   ]
  },
  {
   "cell_type": "code",
   "execution_count": 5,
   "metadata": {},
   "outputs": [],
   "source": [
    "#df2019 = pd.read_html(url2)[0]\n",
    "#dfW2019 = pd.read_html(W2019)[0]\n",
    "# dfW2018 = pd.read_html(W2018)[0]\n",
    "dfW2015 = pd.read_html(W2015)[0]"
   ]
  },
  {
   "cell_type": "code",
   "execution_count": 75,
   "metadata": {},
   "outputs": [],
   "source": [
    "#df2019.to_csv('2019_world_wide_box_office.csv')\n",
    "#dfW2019.to_csv('2019WWBoxOffice.csv')\n",
    "# dfW2018.to_csv('2018WWBoxOffice.csv')\n",
    "dfW2015.to_csv('2015WWBoxOffice.csv')#Converting into CSV files"
   ]
  },
  {
   "cell_type": "code",
   "execution_count": null,
   "metadata": {},
   "outputs": [],
   "source": [
    "# In [4]: frames = [df1, df2, df3]\n",
    "\n",
    "# In [5]: result = pd.concat(frames)"
   ]
  },
  {
   "cell_type": "code",
   "execution_count": 76,
   "metadata": {},
   "outputs": [],
   "source": [
    "dfMerge = [dfW2015,dfW2016,dfW2017,dfW2018,dfW2019]\n",
    "result=pd.concat(dfMerge)#merging the data to convert them into a single CSV file"
   ]
  },
  {
   "cell_type": "code",
   "execution_count": 77,
   "metadata": {},
   "outputs": [],
   "source": [
    "result.to_csv('2015_2019WorldWideBoxOffice.csv')#Converting the merged data into single CSV file"
   ]
  },
  {
   "cell_type": "code",
   "execution_count": null,
   "metadata": {},
   "outputs": [],
   "source": []
  }
 ],
 "metadata": {
  "kernelspec": {
   "display_name": "Python 3",
   "language": "python",
   "name": "python3"
  },
  "language_info": {
   "codemirror_mode": {
    "name": "ipython",
    "version": 3
   },
   "file_extension": ".py",
   "mimetype": "text/x-python",
   "name": "python",
   "nbconvert_exporter": "python",
   "pygments_lexer": "ipython3",
   "version": "3.6.9"
  }
 },
 "nbformat": 4,
 "nbformat_minor": 2
}

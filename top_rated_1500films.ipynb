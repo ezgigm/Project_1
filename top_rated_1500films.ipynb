{
 "cells": [
  {
   "cell_type": "code",
   "execution_count": 30,
   "metadata": {},
   "outputs": [],
   "source": [
    "import json\n",
    "import requests\n",
    "import pandas as pd\n",
    "import numpy as np\n",
    "\n",
    "\n",
    "# Define a function for openning the json\n",
    "def get_keys(path):\n",
    "    with open(path) as f:\n",
    "        return json.load(f)\n",
    "\n",
    "# Using the function to open and load all keys in that file \n",
    "api_keys = get_keys(\"/Users/ezgi/.secret_the_movie/movie_api.json\")\n",
    "\n",
    "# Setting the first (and only) value as a variable\n",
    "ds_key_1 = list(api_keys.values())[0]"
   ]
  },
  {
   "cell_type": "code",
   "execution_count": 31,
   "metadata": {},
   "outputs": [],
   "source": [
    "data = pd.DataFrame([])\n",
    "\n",
    "for i in list(range(1, 75)):\n",
    "    url = f'https://api.themoviedb.org/3/movie/top_rated?api_key={ds_key_1}&language=en-US&page={i}'\n",
    "    ds_r = requests.get(url)\n",
    "    df = pd.DataFrame.from_dict(ds_r.json()['results'])\n",
    "    data = pd.DataFrame.append(data,df)\n",
    "\n"
   ]
  },
  {
   "cell_type": "code",
   "execution_count": 34,
   "metadata": {},
   "outputs": [],
   "source": [
    "data.to_csv('all_top_rated_without_revenue.csv')"
   ]
  }
 ],
 "metadata": {
  "kernelspec": {
   "display_name": "learn-env",
   "language": "python",
   "name": "learn-env"
  },
  "language_info": {
   "codemirror_mode": {
    "name": "ipython",
    "version": 3
   },
   "file_extension": ".py",
   "mimetype": "text/x-python",
   "name": "python",
   "nbconvert_exporter": "python",
   "pygments_lexer": "ipython3",
   "version": "3.7.4"
  }
 },
 "nbformat": 4,
 "nbformat_minor": 2
}

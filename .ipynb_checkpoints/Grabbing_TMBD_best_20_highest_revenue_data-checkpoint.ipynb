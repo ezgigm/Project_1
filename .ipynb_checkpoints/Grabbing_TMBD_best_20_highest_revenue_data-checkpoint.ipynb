{
 "cells": [
  {
   "cell_type": "markdown",
   "metadata": {},
   "source": [
    "# Grabbing Data From TMDB\n",
    "\n",
    "We grabbed two data sets from TMDB.\n",
    "\n",
    "1. Best 20 Revenue values films for each year from 1970 to 2019\n",
    "2. Top rated 1500 films \n",
    "\n",
    "To do this, we used API keys."
   ]
  },
  {
   "cell_type": "markdown",
   "metadata": {},
   "source": [
    "### Best 20 Revenue Films from 1970 to 2019"
   ]
  },
  {
   "cell_type": "code",
   "execution_count": null,
   "metadata": {},
   "outputs": [],
   "source": [
    "# To use api key, import JSON and requests\n",
    "# Import Pandas to assign values to dataframes\n",
    "# Import numpy for series\n",
    "\n",
    "import json\n",
    "import requests\n",
    "import pandas as pd\n",
    "import numpy as np\n",
    "\n",
    "# Define a function for openning the json\n",
    "def get_keys(path):\n",
    "    with open(path) as f:\n",
    "        return json.load(f)\n",
    "\n",
    "# Using the function to open and load all keys in this file \n",
    "api_keys = get_keys(\"/Users/ezgi/.secret_the_movie/movie_api.json\")\n",
    "\n",
    "# Setting value of api key as a variable\n",
    "ds_key_1 = list(api_keys.values())[0]\n",
    "\n"
   ]
  },
  {
   "cell_type": "markdown",
   "metadata": {},
   "source": [
    "Now, we begin to grabbing data from website.\n",
    "First, we create a new list which contains years."
   ]
  },
  {
   "cell_type": "code",
   "execution_count": null,
   "metadata": {},
   "outputs": [],
   "source": [
    "ds_r = requests.get(url) \n",
    "# to see the keys and elements of JSON and decide which I need"
   ]
  },
  {
   "cell_type": "code",
   "execution_count": null,
   "metadata": {},
   "outputs": [],
   "source": [
    "ds_r.json().keys()\n",
    "# to see the keys"
   ]
  },
  {
   "cell_type": "code",
   "execution_count": null,
   "metadata": {},
   "outputs": [],
   "source": [
    "for key in ds_r.json().keys():\n",
    "    print(key) # To see the keys and their types\n",
    "    value = ds_r.json()[key] # To figure out types\n",
    "    print(type(value)) # To see the type of values\n",
    "    print('\\n\\n') # Separate out data"
   ]
  },
  {
   "cell_type": "markdown",
   "metadata": {},
   "source": [
    "We understood that all other 3 sets of keys are integer, but 'Results' class is list. \n",
    "Now, we find which variable is useful for us"
   ]
  },
  {
   "cell_type": "code",
   "execution_count": null,
   "metadata": {},
   "outputs": [],
   "source": [
    "my_list = np.arange(1970,2020,1) # my array from 1970 to 2019\n",
    "my_list"
   ]
  },
  {
   "cell_type": "code",
   "execution_count": null,
   "metadata": {},
   "outputs": [],
   "source": [
    "data = pd.DataFrame([])  #create a new blank dataframe to contain all years values\n",
    "\n",
    "for i in my_list : # loop for changing the years\n",
    "    url = f'https://api.themoviedb.org/3/discover/movie?api_key={ds_key_1}&primary_release_year={i}&sort_by=revenue.desc'\n",
    "    ds_r = requests.get(url)\n",
    "    df = pd.DataFrame.from_dict(ds_r.json()['results'])\n",
    "    data = pd.DataFrame.append(data,df)\n",
    "\n",
    "# now, 'data' is our dataframe with values"
   ]
  },
  {
   "cell_type": "code",
   "execution_count": null,
   "metadata": {},
   "outputs": [],
   "source": [
    "data.to_csv('20highest_revenue_from_1970_to_2019')    #write data to csv file and we will use this csv after that"
   ]
  },
  {
   "cell_type": "markdown",
   "metadata": {},
   "source": [
    "### Top Rated 1500 films"
   ]
  },
  {
   "cell_type": "markdown",
   "metadata": {},
   "source": [
    "Now, we begin to collect top 1500 films using different URL from TMDB."
   ]
  },
  {
   "cell_type": "code",
   "execution_count": null,
   "metadata": {},
   "outputs": [],
   "source": [
    "data1 = pd.DataFrame([]) #create a new blank dataframe to contain all years values\n",
    "\n",
    "#assign range to 1 from 75\n",
    "for i in list(range(1, 75)):  # loop for changing the pages \n",
    "    url1 = f'https://api.themoviedb.org/3/movie/top_rated?api_key={ds_key_1}&language=en-US&page={i}'\n",
    "    ds_r1 = requests.get(url1)\n",
    "    df1 = pd.DataFrame.from_dict(ds_r1.json()['results'])\n",
    "    data1 = pd.DataFrame.append(data1,df1)\n",
    "    \n",
    "# now, 'data1' is our dataframe with values"
   ]
  },
  {
   "cell_type": "code",
   "execution_count": null,
   "metadata": {},
   "outputs": [],
   "source": [
    "data.to_csv('all_top_rated_without_revenue.csv') #write data to csv file and we will use this csv after that"
   ]
  },
  {
   "cell_type": "markdown",
   "metadata": {},
   "source": [
    "When we realized the genres of films are coded by numbers, to find the means of the numbers we used another URL"
   ]
  },
  {
   "cell_type": "code",
   "execution_count": null,
   "metadata": {},
   "outputs": [],
   "source": [
    "url_genres = f'https://api.themoviedb.org/3/genre/movie/list?api_key={ds_key_1}&language=en-US' \n",
    "# To learn id_code of genres"
   ]
  },
  {
   "cell_type": "code",
   "execution_count": null,
   "metadata": {},
   "outputs": [],
   "source": [
    "ds_genres = requests.get(url_genres)"
   ]
  },
  {
   "cell_type": "code",
   "execution_count": null,
   "metadata": {},
   "outputs": [],
   "source": [
    "# List of genres\n",
    "\n",
    "df_genres = pd.DataFrame.from_dict(ds_genres.json()['genres'])\n",
    "print(len(df_genres)) #Print how many rows\n",
    "print(df_genres.columns) #Print column names\n",
    "\n",
    "df_genres "
   ]
  },
  {
   "cell_type": "code",
   "execution_count": null,
   "metadata": {},
   "outputs": [],
   "source": [
    "df_genres.to_csv('genre_codes.csv') # Write our genres codes and id dataframe to csv"
   ]
  },
  {
   "cell_type": "markdown",
   "metadata": {},
   "source": [
    "After that, we will use our csv files for our project. All of them are available as csv form."
   ]
  }
 ],
 "metadata": {
  "kernelspec": {
   "display_name": "learn-env",
   "language": "python",
   "name": "learn-env"
  },
  "language_info": {
   "codemirror_mode": {
    "name": "ipython",
    "version": 3
   },
   "file_extension": ".py",
   "mimetype": "text/x-python",
   "name": "python",
   "nbconvert_exporter": "python",
   "pygments_lexer": "ipython3",
   "version": "3.7.4"
  }
 },
 "nbformat": 4,
 "nbformat_minor": 2
}

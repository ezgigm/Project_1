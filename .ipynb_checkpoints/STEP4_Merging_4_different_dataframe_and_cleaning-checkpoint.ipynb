{
 "cells": [
  {
   "cell_type": "markdown",
   "metadata": {},
   "source": [
    "# Merging the 4 different cvs's data"
   ]
  },
  {
   "cell_type": "markdown",
   "metadata": {},
   "source": [
    "We grabbed 4 different data sets for all dataframe\n",
    "\n",
    "1. Best 20 Revenue values films for each year from 1970 to 2019           (20highest_revenue_from_1970_to_2019)\n",
    "2. Top rated 1500 films                                                    (all_top_rated_without_revenue.csv)       \n",
    "\n",
    "These first two are from TMDB via API key\n",
    "3. Budget & Worldwide Gross and Domestic                             (1900movies_budget_domesticgross_WW_gross.csv)\n",
    "\n",
    "Third one is from the-numbers.com via Web Scrabing\n",
    "4. Foreign and Domestic Revenues from Box Office Mojo                       (2015_2019WorldWideBoxOffice.csv')                              \n",
    "Forth one is from Box Office via Web Scrabing"
   ]
  },
  {
   "cell_type": "code",
   "execution_count": 15,
   "metadata": {
    "scrolled": true
   },
   "outputs": [],
   "source": [
    "import pandas as pd      #import for our dataframe and series \n",
    "import numpy as np"
   ]
  },
  {
   "cell_type": "code",
   "execution_count": 16,
   "metadata": {},
   "outputs": [],
   "source": [
    "df = pd.read_csv('1900movies_budget_domesticgross_WW_gross.csv') #taking values from  the-numbers.com"
   ]
  },
  {
   "cell_type": "code",
   "execution_count": 1,
   "metadata": {},
   "outputs": [],
   "source": [
    "df   #to see our data frame"
   ]
  },
  {
   "cell_type": "code",
   "execution_count": 17,
   "metadata": {},
   "outputs": [],
   "source": [
    "df_1 = pd.read_csv('20highest_revenue_from_1970_to_2019')\n",
    "#take TMDB datas csv   "
   ]
  },
  {
   "cell_type": "code",
   "execution_count": 18,
   "metadata": {},
   "outputs": [],
   "source": [
    "df_2 = pd.read_csv('all_top_rated_without_revenue.csv')\n",
    "#take TMDB other data csv"
   ]
  },
  {
   "cell_type": "code",
   "execution_count": 6,
   "metadata": {},
   "outputs": [],
   "source": [
    "df_2 #to see the dataframe"
   ]
  },
  {
   "cell_type": "markdown",
   "metadata": {},
   "source": [
    "## Merging and Cleaning Dublicates for TMDB's two dataframes"
   ]
  },
  {
   "cell_type": "code",
   "execution_count": 19,
   "metadata": {},
   "outputs": [],
   "source": [
    "to_concat = [df_1, df_2]\n",
    "combined_df = pd.concat(to_concat)\n",
    "#the columns are same so we can easily merge them"
   ]
  },
  {
   "cell_type": "code",
   "execution_count": 2,
   "metadata": {},
   "outputs": [],
   "source": [
    "combined_df.head(20) #to see the head"
   ]
  },
  {
   "cell_type": "code",
   "execution_count": 3,
   "metadata": {},
   "outputs": [],
   "source": [
    "combined_df.tail()#to see the tail"
   ]
  },
  {
   "cell_type": "code",
   "execution_count": 397,
   "metadata": {},
   "outputs": [
    {
     "name": "stdout",
     "output_type": "stream",
     "text": [
      "Unnamed: 0\n",
      "adult\n",
      "backdrop_path\n",
      "genre_ids\n",
      "id\n",
      "original_language\n",
      "original_title\n",
      "overview\n",
      "popularity\n",
      "poster_path\n",
      "release_date\n",
      "title\n",
      "video\n",
      "vote_average\n",
      "vote_count\n"
     ]
    }
   ],
   "source": [
    "for col in combined_df.columns:\n",
    "    print(col)                 #to see the column names for choosing useful columns"
   ]
  },
  {
   "cell_type": "code",
   "execution_count": 20,
   "metadata": {},
   "outputs": [],
   "source": [
    "combined_df.drop(columns = ['Unnamed: 0','backdrop_path','overview','poster_path','video'], inplace=True)\n",
    "#Drop the unnecessary columns"
   ]
  },
  {
   "cell_type": "code",
   "execution_count": 4,
   "metadata": {},
   "outputs": [],
   "source": [
    "combined_df #to see the result"
   ]
  },
  {
   "cell_type": "code",
   "execution_count": 21,
   "metadata": {},
   "outputs": [
    {
     "data": {
      "text/html": [
       "<div>\n",
       "<style scoped>\n",
       "    .dataframe tbody tr th:only-of-type {\n",
       "        vertical-align: middle;\n",
       "    }\n",
       "\n",
       "    .dataframe tbody tr th {\n",
       "        vertical-align: top;\n",
       "    }\n",
       "\n",
       "    .dataframe thead th {\n",
       "        text-align: right;\n",
       "    }\n",
       "</style>\n",
       "<table border=\"1\" class=\"dataframe\">\n",
       "  <thead>\n",
       "    <tr style=\"text-align: right;\">\n",
       "      <th></th>\n",
       "      <th>adult</th>\n",
       "      <th>genre_ids</th>\n",
       "      <th>id</th>\n",
       "      <th>original_language</th>\n",
       "      <th>original_title</th>\n",
       "      <th>popularity</th>\n",
       "      <th>release_date</th>\n",
       "      <th>vote_average</th>\n",
       "      <th>vote_count</th>\n",
       "    </tr>\n",
       "    <tr>\n",
       "      <th>title</th>\n",
       "      <th></th>\n",
       "      <th></th>\n",
       "      <th></th>\n",
       "      <th></th>\n",
       "      <th></th>\n",
       "      <th></th>\n",
       "      <th></th>\n",
       "      <th></th>\n",
       "      <th></th>\n",
       "    </tr>\n",
       "  </thead>\n",
       "  <tbody>\n",
       "    <tr>\n",
       "      <td>Love Story</td>\n",
       "      <td>False</td>\n",
       "      <td>[18, 10749]</td>\n",
       "      <td>9062</td>\n",
       "      <td>en</td>\n",
       "      <td>Love Story</td>\n",
       "      <td>9.594</td>\n",
       "      <td>1970-12-16</td>\n",
       "      <td>6.7</td>\n",
       "      <td>317</td>\n",
       "    </tr>\n",
       "    <tr>\n",
       "      <td>Airport</td>\n",
       "      <td>False</td>\n",
       "      <td>[28, 18, 53]</td>\n",
       "      <td>10671</td>\n",
       "      <td>en</td>\n",
       "      <td>Airport</td>\n",
       "      <td>9.058</td>\n",
       "      <td>1970-03-05</td>\n",
       "      <td>6.5</td>\n",
       "      <td>169</td>\n",
       "    </tr>\n",
       "    <tr>\n",
       "      <td>Patton</td>\n",
       "      <td>False</td>\n",
       "      <td>[18, 36, 10752]</td>\n",
       "      <td>11202</td>\n",
       "      <td>en</td>\n",
       "      <td>Patton</td>\n",
       "      <td>13.077</td>\n",
       "      <td>1970-01-25</td>\n",
       "      <td>7.5</td>\n",
       "      <td>585</td>\n",
       "    </tr>\n",
       "    <tr>\n",
       "      <td>M*A*S*H</td>\n",
       "      <td>False</td>\n",
       "      <td>[35, 18, 10752]</td>\n",
       "      <td>651</td>\n",
       "      <td>en</td>\n",
       "      <td>M*A*S*H</td>\n",
       "      <td>11.800</td>\n",
       "      <td>1970-01-24</td>\n",
       "      <td>7.1</td>\n",
       "      <td>486</td>\n",
       "    </tr>\n",
       "    <tr>\n",
       "      <td>The Aristocats</td>\n",
       "      <td>False</td>\n",
       "      <td>[12, 16, 35, 10751]</td>\n",
       "      <td>10112</td>\n",
       "      <td>en</td>\n",
       "      <td>The Aristocats</td>\n",
       "      <td>13.901</td>\n",
       "      <td>1970-12-23</td>\n",
       "      <td>7.3</td>\n",
       "      <td>3164</td>\n",
       "    </tr>\n",
       "    <tr>\n",
       "      <td>...</td>\n",
       "      <td>...</td>\n",
       "      <td>...</td>\n",
       "      <td>...</td>\n",
       "      <td>...</td>\n",
       "      <td>...</td>\n",
       "      <td>...</td>\n",
       "      <td>...</td>\n",
       "      <td>...</td>\n",
       "      <td>...</td>\n",
       "    </tr>\n",
       "    <tr>\n",
       "      <td>Assault on Precinct 13</td>\n",
       "      <td>False</td>\n",
       "      <td>[53, 28, 80]</td>\n",
       "      <td>17814</td>\n",
       "      <td>en</td>\n",
       "      <td>Assault on Precinct 13</td>\n",
       "      <td>9.932</td>\n",
       "      <td>1976-11-05</td>\n",
       "      <td>7.3</td>\n",
       "      <td>499</td>\n",
       "    </tr>\n",
       "    <tr>\n",
       "      <td>Manhattan Murder Mystery</td>\n",
       "      <td>False</td>\n",
       "      <td>[35, 9648]</td>\n",
       "      <td>10440</td>\n",
       "      <td>en</td>\n",
       "      <td>Manhattan Murder Mystery</td>\n",
       "      <td>9.439</td>\n",
       "      <td>1993-08-18</td>\n",
       "      <td>7.3</td>\n",
       "      <td>480</td>\n",
       "    </tr>\n",
       "    <tr>\n",
       "      <td>A Nightmare on Elm Street</td>\n",
       "      <td>False</td>\n",
       "      <td>[27]</td>\n",
       "      <td>377</td>\n",
       "      <td>en</td>\n",
       "      <td>A Nightmare on Elm Street</td>\n",
       "      <td>12.545</td>\n",
       "      <td>1984-11-14</td>\n",
       "      <td>7.3</td>\n",
       "      <td>2820</td>\n",
       "    </tr>\n",
       "    <tr>\n",
       "      <td>Brooklyn</td>\n",
       "      <td>False</td>\n",
       "      <td>[18, 10749]</td>\n",
       "      <td>167073</td>\n",
       "      <td>en</td>\n",
       "      <td>Brooklyn</td>\n",
       "      <td>15.632</td>\n",
       "      <td>2015-10-20</td>\n",
       "      <td>7.3</td>\n",
       "      <td>2135</td>\n",
       "    </tr>\n",
       "    <tr>\n",
       "      <td>Frozen</td>\n",
       "      <td>False</td>\n",
       "      <td>[12, 16, 10751]</td>\n",
       "      <td>109445</td>\n",
       "      <td>en</td>\n",
       "      <td>Frozen</td>\n",
       "      <td>44.178</td>\n",
       "      <td>2013-11-27</td>\n",
       "      <td>7.3</td>\n",
       "      <td>11199</td>\n",
       "    </tr>\n",
       "  </tbody>\n",
       "</table>\n",
       "<p>2480 rows × 9 columns</p>\n",
       "</div>"
      ],
      "text/plain": [
       "                           adult            genre_ids      id  \\\n",
       "title                                                           \n",
       "Love Story                 False          [18, 10749]    9062   \n",
       "Airport                    False         [28, 18, 53]   10671   \n",
       "Patton                     False      [18, 36, 10752]   11202   \n",
       "M*A*S*H                    False      [35, 18, 10752]     651   \n",
       "The Aristocats             False  [12, 16, 35, 10751]   10112   \n",
       "...                          ...                  ...     ...   \n",
       "Assault on Precinct 13     False         [53, 28, 80]   17814   \n",
       "Manhattan Murder Mystery   False           [35, 9648]   10440   \n",
       "A Nightmare on Elm Street  False                 [27]     377   \n",
       "Brooklyn                   False          [18, 10749]  167073   \n",
       "Frozen                     False      [12, 16, 10751]  109445   \n",
       "\n",
       "                          original_language             original_title  \\\n",
       "title                                                                    \n",
       "Love Story                               en                 Love Story   \n",
       "Airport                                  en                    Airport   \n",
       "Patton                                   en                     Patton   \n",
       "M*A*S*H                                  en                    M*A*S*H   \n",
       "The Aristocats                           en             The Aristocats   \n",
       "...                                     ...                        ...   \n",
       "Assault on Precinct 13                   en     Assault on Precinct 13   \n",
       "Manhattan Murder Mystery                 en   Manhattan Murder Mystery   \n",
       "A Nightmare on Elm Street                en  A Nightmare on Elm Street   \n",
       "Brooklyn                                 en                   Brooklyn   \n",
       "Frozen                                   en                     Frozen   \n",
       "\n",
       "                           popularity release_date  vote_average  vote_count  \n",
       "title                                                                         \n",
       "Love Story                      9.594   1970-12-16           6.7         317  \n",
       "Airport                         9.058   1970-03-05           6.5         169  \n",
       "Patton                         13.077   1970-01-25           7.5         585  \n",
       "M*A*S*H                        11.800   1970-01-24           7.1         486  \n",
       "The Aristocats                 13.901   1970-12-23           7.3        3164  \n",
       "...                               ...          ...           ...         ...  \n",
       "Assault on Precinct 13          9.932   1976-11-05           7.3         499  \n",
       "Manhattan Murder Mystery        9.439   1993-08-18           7.3         480  \n",
       "A Nightmare on Elm Street      12.545   1984-11-14           7.3        2820  \n",
       "Brooklyn                       15.632   2015-10-20           7.3        2135  \n",
       "Frozen                         44.178   2013-11-27           7.3       11199  \n",
       "\n",
       "[2480 rows x 9 columns]"
      ]
     },
     "execution_count": 21,
     "metadata": {},
     "output_type": "execute_result"
    }
   ],
   "source": [
    "combined_df.set_index('title')  #set the title as index for preparing to other merge "
   ]
  },
  {
   "cell_type": "code",
   "execution_count": 5,
   "metadata": {
    "scrolled": true
   },
   "outputs": [],
   "source": [
    "combined_df.sort_values(by='vote_average', ascending = False)  #To see the best vote_average films"
   ]
  },
  {
   "cell_type": "code",
   "execution_count": 22,
   "metadata": {},
   "outputs": [
    {
     "name": "stdout",
     "output_type": "stream",
     "text": [
      "<class 'pandas.core.frame.DataFrame'>\n",
      "Int64Index: 2480 entries, 0 to 1479\n",
      "Data columns (total 10 columns):\n",
      "adult                2480 non-null bool\n",
      "genre_ids            2480 non-null object\n",
      "id                   2480 non-null int64\n",
      "original_language    2480 non-null object\n",
      "original_title       2480 non-null object\n",
      "popularity           2480 non-null float64\n",
      "release_date         2480 non-null object\n",
      "title                2480 non-null object\n",
      "vote_average         2480 non-null float64\n",
      "vote_count           2480 non-null int64\n",
      "dtypes: bool(1), float64(2), int64(2), object(5)\n",
      "memory usage: 196.2+ KB\n"
     ]
    }
   ],
   "source": [
    "combined_df.info()    #to get info about types and shape"
   ]
  },
  {
   "cell_type": "code",
   "execution_count": 23,
   "metadata": {},
   "outputs": [],
   "source": [
    "combined_df.drop_duplicates(subset='id',inplace=True) #To figure our and drop dublicated rows"
   ]
  },
  {
   "cell_type": "code",
   "execution_count": 24,
   "metadata": {},
   "outputs": [
    {
     "name": "stdout",
     "output_type": "stream",
     "text": [
      "<class 'pandas.core.frame.DataFrame'>\n",
      "Int64Index: 2217 entries, 0 to 1478\n",
      "Data columns (total 10 columns):\n",
      "adult                2217 non-null bool\n",
      "genre_ids            2217 non-null object\n",
      "id                   2217 non-null int64\n",
      "original_language    2217 non-null object\n",
      "original_title       2217 non-null object\n",
      "popularity           2217 non-null float64\n",
      "release_date         2217 non-null object\n",
      "title                2217 non-null object\n",
      "vote_average         2217 non-null float64\n",
      "vote_count           2217 non-null int64\n",
      "dtypes: bool(1), float64(2), int64(2), object(5)\n",
      "memory usage: 175.4+ KB\n"
     ]
    }
   ],
   "source": [
    "combined_df.info()  #to check the dublicated values were gone or not"
   ]
  },
  {
   "cell_type": "markdown",
   "metadata": {},
   "source": [
    "## Converting Genre Codes to Genre Names"
   ]
  },
  {
   "cell_type": "code",
   "execution_count": 25,
   "metadata": {},
   "outputs": [],
   "source": [
    "genres_id = pd.read_csv('genre_codes.csv') #taking our genre codes csv"
   ]
  },
  {
   "cell_type": "code",
   "execution_count": 365,
   "metadata": {},
   "outputs": [
    {
     "data": {
      "text/html": [
       "<div>\n",
       "<style scoped>\n",
       "    .dataframe tbody tr th:only-of-type {\n",
       "        vertical-align: middle;\n",
       "    }\n",
       "\n",
       "    .dataframe tbody tr th {\n",
       "        vertical-align: top;\n",
       "    }\n",
       "\n",
       "    .dataframe thead th {\n",
       "        text-align: right;\n",
       "    }\n",
       "</style>\n",
       "<table border=\"1\" class=\"dataframe\">\n",
       "  <thead>\n",
       "    <tr style=\"text-align: right;\">\n",
       "      <th></th>\n",
       "      <th>Unnamed: 0</th>\n",
       "      <th>id</th>\n",
       "      <th>name</th>\n",
       "    </tr>\n",
       "  </thead>\n",
       "  <tbody>\n",
       "    <tr>\n",
       "      <td>0</td>\n",
       "      <td>0</td>\n",
       "      <td>28</td>\n",
       "      <td>Action</td>\n",
       "    </tr>\n",
       "    <tr>\n",
       "      <td>1</td>\n",
       "      <td>1</td>\n",
       "      <td>12</td>\n",
       "      <td>Adventure</td>\n",
       "    </tr>\n",
       "    <tr>\n",
       "      <td>2</td>\n",
       "      <td>2</td>\n",
       "      <td>16</td>\n",
       "      <td>Animation</td>\n",
       "    </tr>\n",
       "    <tr>\n",
       "      <td>3</td>\n",
       "      <td>3</td>\n",
       "      <td>35</td>\n",
       "      <td>Comedy</td>\n",
       "    </tr>\n",
       "    <tr>\n",
       "      <td>4</td>\n",
       "      <td>4</td>\n",
       "      <td>80</td>\n",
       "      <td>Crime</td>\n",
       "    </tr>\n",
       "    <tr>\n",
       "      <td>5</td>\n",
       "      <td>5</td>\n",
       "      <td>99</td>\n",
       "      <td>Documentary</td>\n",
       "    </tr>\n",
       "    <tr>\n",
       "      <td>6</td>\n",
       "      <td>6</td>\n",
       "      <td>18</td>\n",
       "      <td>Drama</td>\n",
       "    </tr>\n",
       "    <tr>\n",
       "      <td>7</td>\n",
       "      <td>7</td>\n",
       "      <td>10751</td>\n",
       "      <td>Family</td>\n",
       "    </tr>\n",
       "    <tr>\n",
       "      <td>8</td>\n",
       "      <td>8</td>\n",
       "      <td>14</td>\n",
       "      <td>Fantasy</td>\n",
       "    </tr>\n",
       "    <tr>\n",
       "      <td>9</td>\n",
       "      <td>9</td>\n",
       "      <td>36</td>\n",
       "      <td>History</td>\n",
       "    </tr>\n",
       "    <tr>\n",
       "      <td>10</td>\n",
       "      <td>10</td>\n",
       "      <td>27</td>\n",
       "      <td>Horror</td>\n",
       "    </tr>\n",
       "    <tr>\n",
       "      <td>11</td>\n",
       "      <td>11</td>\n",
       "      <td>10402</td>\n",
       "      <td>Music</td>\n",
       "    </tr>\n",
       "    <tr>\n",
       "      <td>12</td>\n",
       "      <td>12</td>\n",
       "      <td>9648</td>\n",
       "      <td>Mystery</td>\n",
       "    </tr>\n",
       "    <tr>\n",
       "      <td>13</td>\n",
       "      <td>13</td>\n",
       "      <td>10749</td>\n",
       "      <td>Romance</td>\n",
       "    </tr>\n",
       "    <tr>\n",
       "      <td>14</td>\n",
       "      <td>14</td>\n",
       "      <td>878</td>\n",
       "      <td>Science Fiction</td>\n",
       "    </tr>\n",
       "    <tr>\n",
       "      <td>15</td>\n",
       "      <td>15</td>\n",
       "      <td>10770</td>\n",
       "      <td>TV Movie</td>\n",
       "    </tr>\n",
       "    <tr>\n",
       "      <td>16</td>\n",
       "      <td>16</td>\n",
       "      <td>53</td>\n",
       "      <td>Thriller</td>\n",
       "    </tr>\n",
       "    <tr>\n",
       "      <td>17</td>\n",
       "      <td>17</td>\n",
       "      <td>10752</td>\n",
       "      <td>War</td>\n",
       "    </tr>\n",
       "    <tr>\n",
       "      <td>18</td>\n",
       "      <td>18</td>\n",
       "      <td>37</td>\n",
       "      <td>Western</td>\n",
       "    </tr>\n",
       "  </tbody>\n",
       "</table>\n",
       "</div>"
      ],
      "text/plain": [
       "    Unnamed: 0     id             name\n",
       "0            0     28           Action\n",
       "1            1     12        Adventure\n",
       "2            2     16        Animation\n",
       "3            3     35           Comedy\n",
       "4            4     80            Crime\n",
       "5            5     99      Documentary\n",
       "6            6     18            Drama\n",
       "7            7  10751           Family\n",
       "8            8     14          Fantasy\n",
       "9            9     36          History\n",
       "10          10     27           Horror\n",
       "11          11  10402            Music\n",
       "12          12   9648          Mystery\n",
       "13          13  10749          Romance\n",
       "14          14    878  Science Fiction\n",
       "15          15  10770         TV Movie\n",
       "16          16     53         Thriller\n",
       "17          17  10752              War\n",
       "18          18     37          Western"
      ]
     },
     "execution_count": 365,
     "metadata": {},
     "output_type": "execute_result"
    }
   ],
   "source": [
    "genres_id #See the which number means which genre"
   ]
  },
  {
   "cell_type": "code",
   "execution_count": 26,
   "metadata": {},
   "outputs": [],
   "source": [
    "genres_id['id'] = genres_id['id'].astype(str) #convert integers of id to string \n"
   ]
  },
  {
   "cell_type": "code",
   "execution_count": 27,
   "metadata": {
    "scrolled": true
   },
   "outputs": [
    {
     "name": "stdout",
     "output_type": "stream",
     "text": [
      "<class 'pandas.core.frame.DataFrame'>\n",
      "RangeIndex: 19 entries, 0 to 18\n",
      "Data columns (total 3 columns):\n",
      "Unnamed: 0    19 non-null int64\n",
      "id            19 non-null object\n",
      "name          19 non-null object\n",
      "dtypes: int64(1), object(2)\n",
      "memory usage: 584.0+ bytes\n"
     ]
    }
   ],
   "source": [
    "genres_id.info() #to check for converting"
   ]
  },
  {
   "cell_type": "markdown",
   "metadata": {},
   "source": [
    "### Making a Dictionary for Genres Dataframe"
   ]
  },
  {
   "cell_type": "markdown",
   "metadata": {},
   "source": [
    "To convert to genre codes to names, we need for loop.\n",
    "So, we create dictinary as keys are genres_id , values are genre names."
   ]
  },
  {
   "cell_type": "code",
   "execution_count": 28,
   "metadata": {},
   "outputs": [],
   "source": [
    "list_of_id = genres_id['id'].to_list()\n",
    "# Taking keys of genre dataframe and converting them to list"
   ]
  },
  {
   "cell_type": "code",
   "execution_count": 29,
   "metadata": {},
   "outputs": [],
   "source": [
    "list_of_genre_names = genres_id['name'].to_list()\n",
    "# Taking values of genre dataframe and converting them to list"
   ]
  },
  {
   "cell_type": "code",
   "execution_count": 30,
   "metadata": {},
   "outputs": [],
   "source": [
    "my_dict = zip(list_of_id,list_of_genre_names)\n",
    "genre_dict=dict(my_dict)\n",
    "# genre_dict createf for loop"
   ]
  },
  {
   "cell_type": "code",
   "execution_count": 31,
   "metadata": {},
   "outputs": [],
   "source": [
    "for key,value in genre_dict.items():\n",
    "    combined_df['genre_ids'] = combined_df['genre_ids'].str.replace(key ,value) \n",
    "    \n",
    "#Converting the numbers to names"
   ]
  },
  {
   "cell_type": "code",
   "execution_count": 32,
   "metadata": {},
   "outputs": [
    {
     "data": {
      "text/html": [
       "<div>\n",
       "<style scoped>\n",
       "    .dataframe tbody tr th:only-of-type {\n",
       "        vertical-align: middle;\n",
       "    }\n",
       "\n",
       "    .dataframe tbody tr th {\n",
       "        vertical-align: top;\n",
       "    }\n",
       "\n",
       "    .dataframe thead th {\n",
       "        text-align: right;\n",
       "    }\n",
       "</style>\n",
       "<table border=\"1\" class=\"dataframe\">\n",
       "  <thead>\n",
       "    <tr style=\"text-align: right;\">\n",
       "      <th></th>\n",
       "      <th>adult</th>\n",
       "      <th>genre_ids</th>\n",
       "      <th>id</th>\n",
       "      <th>original_language</th>\n",
       "      <th>original_title</th>\n",
       "      <th>popularity</th>\n",
       "      <th>release_date</th>\n",
       "      <th>title</th>\n",
       "      <th>vote_average</th>\n",
       "      <th>vote_count</th>\n",
       "    </tr>\n",
       "  </thead>\n",
       "  <tbody>\n",
       "    <tr>\n",
       "      <td>809</td>\n",
       "      <td>False</td>\n",
       "      <td>[Drama, Romance]</td>\n",
       "      <td>342470</td>\n",
       "      <td>en</td>\n",
       "      <td>All the Bright Places</td>\n",
       "      <td>93.054</td>\n",
       "      <td>2020-02-28</td>\n",
       "      <td>All the Bright Places</td>\n",
       "      <td>7.5</td>\n",
       "      <td>235</td>\n",
       "    </tr>\n",
       "    <tr>\n",
       "      <td>324</td>\n",
       "      <td>False</td>\n",
       "      <td>[Action, Comedy, Crime]</td>\n",
       "      <td>522627</td>\n",
       "      <td>en</td>\n",
       "      <td>The Gentlemen</td>\n",
       "      <td>38.284</td>\n",
       "      <td>2020-01-01</td>\n",
       "      <td>The Gentlemen</td>\n",
       "      <td>7.9</td>\n",
       "      <td>359</td>\n",
       "    </tr>\n",
       "    <tr>\n",
       "      <td>262</td>\n",
       "      <td>False</td>\n",
       "      <td>[Drama, Romance]</td>\n",
       "      <td>331482</td>\n",
       "      <td>en</td>\n",
       "      <td>Little Women</td>\n",
       "      <td>35.016</td>\n",
       "      <td>2019-12-25</td>\n",
       "      <td>Little Women</td>\n",
       "      <td>8.0</td>\n",
       "      <td>1239</td>\n",
       "    </tr>\n",
       "    <tr>\n",
       "      <td>987</td>\n",
       "      <td>False</td>\n",
       "      <td>[Action, Adventure, Science Fiction]</td>\n",
       "      <td>181812</td>\n",
       "      <td>en</td>\n",
       "      <td>Star Wars: The Rise of Skywalker</td>\n",
       "      <td>55.835</td>\n",
       "      <td>2019-12-18</td>\n",
       "      <td>Star Wars: The Rise of Skywalker</td>\n",
       "      <td>6.5</td>\n",
       "      <td>3059</td>\n",
       "    </tr>\n",
       "    <tr>\n",
       "      <td>1031</td>\n",
       "      <td>False</td>\n",
       "      <td>[Drama]</td>\n",
       "      <td>292011</td>\n",
       "      <td>en</td>\n",
       "      <td>Richard Jewell</td>\n",
       "      <td>34.950</td>\n",
       "      <td>2019-12-13</td>\n",
       "      <td>Richard Jewell</td>\n",
       "      <td>7.5</td>\n",
       "      <td>378</td>\n",
       "    </tr>\n",
       "  </tbody>\n",
       "</table>\n",
       "</div>"
      ],
      "text/plain": [
       "      adult                             genre_ids      id original_language  \\\n",
       "809   False                      [Drama, Romance]  342470                en   \n",
       "324   False               [Action, Comedy, Crime]  522627                en   \n",
       "262   False                      [Drama, Romance]  331482                en   \n",
       "987   False  [Action, Adventure, Science Fiction]  181812                en   \n",
       "1031  False                               [Drama]  292011                en   \n",
       "\n",
       "                        original_title  popularity release_date  \\\n",
       "809              All the Bright Places      93.054   2020-02-28   \n",
       "324                      The Gentlemen      38.284   2020-01-01   \n",
       "262                       Little Women      35.016   2019-12-25   \n",
       "987   Star Wars: The Rise of Skywalker      55.835   2019-12-18   \n",
       "1031                    Richard Jewell      34.950   2019-12-13   \n",
       "\n",
       "                                 title  vote_average  vote_count  \n",
       "809              All the Bright Places           7.5         235  \n",
       "324                      The Gentlemen           7.9         359  \n",
       "262                       Little Women           8.0        1239  \n",
       "987   Star Wars: The Rise of Skywalker           6.5        3059  \n",
       "1031                    Richard Jewell           7.5         378  "
      ]
     },
     "execution_count": 32,
     "metadata": {},
     "output_type": "execute_result"
    }
   ],
   "source": [
    "combined_df.sort_values(by='release_date',ascending=False).head() #to see the convertion"
   ]
  },
  {
   "cell_type": "code",
   "execution_count": 411,
   "metadata": {},
   "outputs": [],
   "source": [
    "combined_df.set_index('title',inplace=True)\n",
    "#Seting a new index as title for preparing other merging"
   ]
  },
  {
   "cell_type": "code",
   "execution_count": 33,
   "metadata": {},
   "outputs": [],
   "source": [
    "combined_df #to see the new index"
   ]
  },
  {
   "cell_type": "markdown",
   "metadata": {},
   "source": [
    "## Merging Web Scrabing Data for Budgets"
   ]
  },
  {
   "cell_type": "code",
   "execution_count": 412,
   "metadata": {},
   "outputs": [],
   "source": [
    "df.rename(columns = {'Name' : 'title'}, inplace = True)\n",
    "#before merging we change name to title for merging according to title"
   ]
  },
  {
   "cell_type": "code",
   "execution_count": 413,
   "metadata": {},
   "outputs": [],
   "source": [
    "df.set_index('title',inplace=True)\n",
    "# set the title as index for perfect match"
   ]
  },
  {
   "cell_type": "code",
   "execution_count": 414,
   "metadata": {},
   "outputs": [],
   "source": [
    "combined_outer = pd.merge(combined_df, df, how = 'outer', left_index = True, right_index = True)\n",
    "\n",
    "#We merge data according to outer shell because we will grap more data later and clean null values later"
   ]
  },
  {
   "cell_type": "code",
   "execution_count": 34,
   "metadata": {},
   "outputs": [],
   "source": [
    "combined_outer"
   ]
  },
  {
   "cell_type": "markdown",
   "metadata": {},
   "source": [
    "## Merging Data for Worldwide and Domestic Gross"
   ]
  },
  {
   "cell_type": "code",
   "execution_count": 415,
   "metadata": {},
   "outputs": [],
   "source": [
    "new_df = pd.read_csv('2015_2019WorldWideBoxOffice.csv') #Taking the 4th data set"
   ]
  },
  {
   "cell_type": "code",
   "execution_count": 416,
   "metadata": {},
   "outputs": [],
   "source": [
    "new_df.rename(columns = {'Release Group' : 'title'}, inplace = True)\n",
    "#Rename the columns as title for best merging"
   ]
  },
  {
   "cell_type": "code",
   "execution_count": 417,
   "metadata": {},
   "outputs": [],
   "source": [
    "new_df.set_index('title',inplace=True)\n",
    "#Seting index as title for merge according to title"
   ]
  },
  {
   "cell_type": "code",
   "execution_count": 56,
   "metadata": {},
   "outputs": [],
   "source": [
    "new_df #to see the our last and new df"
   ]
  },
  {
   "cell_type": "code",
   "execution_count": 418,
   "metadata": {},
   "outputs": [],
   "source": [
    "combined_last = pd.merge(combined_outer, new_df, how = 'outer', left_index = True, right_index = True)\n",
    "#Merge all 4th and last data"
   ]
  },
  {
   "cell_type": "code",
   "execution_count": 35,
   "metadata": {},
   "outputs": [],
   "source": [
    "combined_last #to see the last ready dataframe"
   ]
  },
  {
   "cell_type": "code",
   "execution_count": 419,
   "metadata": {},
   "outputs": [],
   "source": [
    "combined_last['Title'] = combined_last.index"
   ]
  },
  {
   "cell_type": "code",
   "execution_count": 420,
   "metadata": {},
   "outputs": [],
   "source": [
    "combined_last.reset_index(inplace=True)"
   ]
  },
  {
   "cell_type": "markdown",
   "metadata": {},
   "source": [
    "## Dropping Unnecessary Columns and Values"
   ]
  },
  {
   "cell_type": "code",
   "execution_count": 421,
   "metadata": {},
   "outputs": [],
   "source": [
    "combined_last.drop_duplicates(subset='Title',inplace=True)\n",
    "\n",
    "#first reset index and create new Title column for dropping dublicates"
   ]
  },
  {
   "cell_type": "code",
   "execution_count": 36,
   "metadata": {
    "scrolled": true
   },
   "outputs": [],
   "source": [
    "combined_last.columns #to see the unnnecessary columns"
   ]
  },
  {
   "cell_type": "code",
   "execution_count": 423,
   "metadata": {},
   "outputs": [],
   "source": [
    "combined_last.drop(columns = ['id','original_title','Unnamed: 0_x','Unnamed: 0_y'], inplace=True)\n",
    "#drop unnecessary columns"
   ]
  },
  {
   "cell_type": "code",
   "execution_count": 424,
   "metadata": {
    "scrolled": true
   },
   "outputs": [
    {
     "data": {
      "text/plain": [
       "title                   0\n",
       "adult                4654\n",
       "genre_ids            4654\n",
       "original_language    4654\n",
       "popularity           4654\n",
       "release_date         4654\n",
       "vote_average         4654\n",
       "vote_count           4654\n",
       "Date                 4959\n",
       "Budget               4959\n",
       "Domestic Gross       4959\n",
       "WW_Gross             4959\n",
       "Rank                 3015\n",
       "Worldwide            3015\n",
       "Domestic             3015\n",
       "%                    3015\n",
       "Foreign              3015\n",
       "%.1                  3015\n",
       "Title                   0\n",
       "dtype: int64"
      ]
     },
     "execution_count": 424,
     "metadata": {},
     "output_type": "execute_result"
    }
   ],
   "source": [
    "combined_last.isna().sum() #to see null values"
   ]
  },
  {
   "cell_type": "markdown",
   "metadata": {},
   "source": [
    "## Merging Domestic Columns and Worldwide Columns"
   ]
  },
  {
   "cell_type": "markdown",
   "metadata": {},
   "source": [
    "In our data there are two columns as domestic from two different web scrabing. One is named as 'Domestic' and other one is 'Domestic Gross'. We picked them two different sources. Now, we merge them in one column. Also, we has 'Worldwide' and 'WW_Gross' columns for total revenue and we need to merge them."
   ]
  },
  {
   "cell_type": "code",
   "execution_count": 425,
   "metadata": {},
   "outputs": [],
   "source": [
    "combined_last['Domestic'].fillna(combined_last['Domestic Gross'],inplace=True)"
   ]
  },
  {
   "cell_type": "code",
   "execution_count": 426,
   "metadata": {},
   "outputs": [],
   "source": [
    "combined_last['Worldwide'].fillna(combined_last['WW_Gross'],inplace=True)"
   ]
  },
  {
   "cell_type": "code",
   "execution_count": 427,
   "metadata": {},
   "outputs": [
    {
     "data": {
      "text/plain": [
       "title                   0\n",
       "adult                4654\n",
       "genre_ids            4654\n",
       "original_language    4654\n",
       "popularity           4654\n",
       "release_date         4654\n",
       "vote_average         4654\n",
       "vote_count           4654\n",
       "Date                 4959\n",
       "Budget               4959\n",
       "Domestic Gross       4959\n",
       "WW_Gross             4959\n",
       "Rank                 3015\n",
       "Worldwide            1444\n",
       "Domestic             1444\n",
       "%                    3015\n",
       "Foreign              3015\n",
       "%.1                  3015\n",
       "Title                   0\n",
       "dtype: int64"
      ]
     },
     "execution_count": 427,
     "metadata": {},
     "output_type": "execute_result"
    }
   ],
   "source": [
    "combined_last.isna().sum() #when we merge them we has less null values for these columns"
   ]
  },
  {
   "cell_type": "code",
   "execution_count": 428,
   "metadata": {},
   "outputs": [],
   "source": [
    "combined_last.drop(columns=['Domestic Gross','WW_Gross'],inplace=True)\n",
    "#Drop unnecessary columns after merging"
   ]
  },
  {
   "cell_type": "code",
   "execution_count": 430,
   "metadata": {},
   "outputs": [],
   "source": [
    "combined_last.to_csv('last_all_data.csv')\n",
    "#This is all our merged data"
   ]
  },
  {
   "cell_type": "markdown",
   "metadata": {},
   "source": [
    "After here, we will use this data file."
   ]
  }
 ],
 "metadata": {
  "kernelspec": {
   "display_name": "learn-env",
   "language": "python",
   "name": "learn-env"
  },
  "language_info": {
   "codemirror_mode": {
    "name": "ipython",
    "version": 3
   },
   "file_extension": ".py",
   "mimetype": "text/x-python",
   "name": "python",
   "nbconvert_exporter": "python",
   "pygments_lexer": "ipython3",
   "version": "3.7.4"
  }
 },
 "nbformat": 4,
 "nbformat_minor": 2
}

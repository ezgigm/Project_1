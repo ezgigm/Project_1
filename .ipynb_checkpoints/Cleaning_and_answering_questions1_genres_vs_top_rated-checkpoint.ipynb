{
 "cells": [
  {
   "cell_type": "code",
   "execution_count": 139,
   "metadata": {},
   "outputs": [],
   "source": [
    "import pandas as pd"
   ]
  },
  {
   "cell_type": "code",
   "execution_count": 140,
   "metadata": {},
   "outputs": [],
   "source": [
    "df = pd.read_csv('last_all_data.csv')"
   ]
  },
  {
   "cell_type": "code",
   "execution_count": 142,
   "metadata": {
    "scrolled": true
   },
   "outputs": [
    {
     "name": "stdout",
     "output_type": "stream",
     "text": [
      "<class 'pandas.core.frame.DataFrame'>\n",
      "RangeIndex: 6848 entries, 0 to 6847\n",
      "Data columns (total 18 columns):\n",
      "Unnamed: 0           6848 non-null int64\n",
      "title                6848 non-null object\n",
      "adult                2194 non-null object\n",
      "genre_ids            2194 non-null object\n",
      "original_language    2194 non-null object\n",
      "popularity           2194 non-null float64\n",
      "release_date         2194 non-null object\n",
      "vote_average         2194 non-null float64\n",
      "vote_count           2194 non-null float64\n",
      "Date                 1889 non-null object\n",
      "Budget               1889 non-null object\n",
      "Rank                 3833 non-null float64\n",
      "Worldwide            5404 non-null object\n",
      "Domestic             5404 non-null object\n",
      "%                    3833 non-null object\n",
      "Foreign              3833 non-null object\n",
      "%.1                  3833 non-null object\n",
      "Title                6848 non-null object\n",
      "dtypes: float64(4), int64(1), object(13)\n",
      "memory usage: 963.1+ KB\n"
     ]
    }
   ],
   "source": [
    "df.info()"
   ]
  },
  {
   "cell_type": "code",
   "execution_count": 143,
   "metadata": {},
   "outputs": [],
   "source": [
    "df.dropna(subset=['genre_ids'],inplace=True)"
   ]
  },
  {
   "cell_type": "code",
   "execution_count": 147,
   "metadata": {
    "scrolled": true
   },
   "outputs": [
    {
     "data": {
      "text/html": [
       "<div>\n",
       "<style scoped>\n",
       "    .dataframe tbody tr th:only-of-type {\n",
       "        vertical-align: middle;\n",
       "    }\n",
       "\n",
       "    .dataframe tbody tr th {\n",
       "        vertical-align: top;\n",
       "    }\n",
       "\n",
       "    .dataframe thead th {\n",
       "        text-align: right;\n",
       "    }\n",
       "</style>\n",
       "<table border=\"1\" class=\"dataframe\">\n",
       "  <thead>\n",
       "    <tr style=\"text-align: right;\">\n",
       "      <th></th>\n",
       "      <th>Unnamed: 0</th>\n",
       "      <th>title</th>\n",
       "      <th>adult</th>\n",
       "      <th>genre_ids</th>\n",
       "      <th>original_language</th>\n",
       "      <th>popularity</th>\n",
       "      <th>release_date</th>\n",
       "      <th>vote_average</th>\n",
       "      <th>vote_count</th>\n",
       "      <th>Date</th>\n",
       "      <th>Budget</th>\n",
       "      <th>Rank</th>\n",
       "      <th>Worldwide</th>\n",
       "      <th>Domestic</th>\n",
       "      <th>%</th>\n",
       "      <th>Foreign</th>\n",
       "      <th>%.1</th>\n",
       "      <th>Title</th>\n",
       "    </tr>\n",
       "  </thead>\n",
       "  <tbody>\n",
       "    <tr>\n",
       "      <td>1451</td>\n",
       "      <td>1459</td>\n",
       "      <td>Dilwale Dulhania Le Jayenge</td>\n",
       "      <td>False</td>\n",
       "      <td>[Comedy, Drama, Romance]</td>\n",
       "      <td>hi</td>\n",
       "      <td>21.867</td>\n",
       "      <td>1995-10-20</td>\n",
       "      <td>8.8</td>\n",
       "      <td>2214.0</td>\n",
       "      <td>NaN</td>\n",
       "      <td>NaN</td>\n",
       "      <td>NaN</td>\n",
       "      <td>NaN</td>\n",
       "      <td>NaN</td>\n",
       "      <td>NaN</td>\n",
       "      <td>NaN</td>\n",
       "      <td>NaN</td>\n",
       "      <td>Dilwale Dulhania Le Jayenge</td>\n",
       "    </tr>\n",
       "    <tr>\n",
       "      <td>5375</td>\n",
       "      <td>5417</td>\n",
       "      <td>The Godfather</td>\n",
       "      <td>False</td>\n",
       "      <td>[Crime, Drama]</td>\n",
       "      <td>en</td>\n",
       "      <td>29.365</td>\n",
       "      <td>1972-03-14</td>\n",
       "      <td>8.7</td>\n",
       "      <td>11487.0</td>\n",
       "      <td>NaN</td>\n",
       "      <td>NaN</td>\n",
       "      <td>NaN</td>\n",
       "      <td>NaN</td>\n",
       "      <td>NaN</td>\n",
       "      <td>NaN</td>\n",
       "      <td>NaN</td>\n",
       "      <td>NaN</td>\n",
       "      <td>The Godfather</td>\n",
       "    </tr>\n",
       "    <tr>\n",
       "      <td>6006</td>\n",
       "      <td>6056</td>\n",
       "      <td>The Shawshank Redemption</td>\n",
       "      <td>False</td>\n",
       "      <td>[Drama, Crime]</td>\n",
       "      <td>en</td>\n",
       "      <td>36.004</td>\n",
       "      <td>1994-09-23</td>\n",
       "      <td>8.7</td>\n",
       "      <td>15047.0</td>\n",
       "      <td>NaN</td>\n",
       "      <td>NaN</td>\n",
       "      <td>NaN</td>\n",
       "      <td>NaN</td>\n",
       "      <td>NaN</td>\n",
       "      <td>NaN</td>\n",
       "      <td>NaN</td>\n",
       "      <td>NaN</td>\n",
       "      <td>The Shawshank Redemption</td>\n",
       "    </tr>\n",
       "    <tr>\n",
       "      <td>4351</td>\n",
       "      <td>4388</td>\n",
       "      <td>Schindler's List</td>\n",
       "      <td>False</td>\n",
       "      <td>[Drama, History, War]</td>\n",
       "      <td>en</td>\n",
       "      <td>23.746</td>\n",
       "      <td>1993-11-30</td>\n",
       "      <td>8.6</td>\n",
       "      <td>9163.0</td>\n",
       "      <td>NaN</td>\n",
       "      <td>NaN</td>\n",
       "      <td>NaN</td>\n",
       "      <td>NaN</td>\n",
       "      <td>NaN</td>\n",
       "      <td>NaN</td>\n",
       "      <td>NaN</td>\n",
       "      <td>NaN</td>\n",
       "      <td>Schindler's List</td>\n",
       "    </tr>\n",
       "    <tr>\n",
       "      <td>3829</td>\n",
       "      <td>3860</td>\n",
       "      <td>Parasite</td>\n",
       "      <td>False</td>\n",
       "      <td>[Comedy, Drama, Thriller]</td>\n",
       "      <td>ko</td>\n",
       "      <td>148.987</td>\n",
       "      <td>2019-05-30</td>\n",
       "      <td>8.6</td>\n",
       "      <td>4756.0</td>\n",
       "      <td>NaN</td>\n",
       "      <td>NaN</td>\n",
       "      <td>35.0</td>\n",
       "      <td>$232,076,982</td>\n",
       "      <td>$51,609,136</td>\n",
       "      <td>22.2%</td>\n",
       "      <td>$180,467,846</td>\n",
       "      <td>77.8%</td>\n",
       "      <td>Parasite</td>\n",
       "    </tr>\n",
       "    <tr>\n",
       "      <td>4637</td>\n",
       "      <td>4674</td>\n",
       "      <td>Spirited Away</td>\n",
       "      <td>False</td>\n",
       "      <td>[Animation, Fantasy, Family]</td>\n",
       "      <td>ja</td>\n",
       "      <td>39.522</td>\n",
       "      <td>2001-07-20</td>\n",
       "      <td>8.5</td>\n",
       "      <td>8569.0</td>\n",
       "      <td>NaN</td>\n",
       "      <td>NaN</td>\n",
       "      <td>NaN</td>\n",
       "      <td>NaN</td>\n",
       "      <td>NaN</td>\n",
       "      <td>NaN</td>\n",
       "      <td>NaN</td>\n",
       "      <td>NaN</td>\n",
       "      <td>Spirited Away</td>\n",
       "    </tr>\n",
       "    <tr>\n",
       "      <td>5376</td>\n",
       "      <td>5418</td>\n",
       "      <td>The Godfather: Part II</td>\n",
       "      <td>False</td>\n",
       "      <td>[Crime, Drama]</td>\n",
       "      <td>en</td>\n",
       "      <td>21.992</td>\n",
       "      <td>1974-12-20</td>\n",
       "      <td>8.5</td>\n",
       "      <td>6754.0</td>\n",
       "      <td>NaN</td>\n",
       "      <td>NaN</td>\n",
       "      <td>NaN</td>\n",
       "      <td>NaN</td>\n",
       "      <td>NaN</td>\n",
       "      <td>NaN</td>\n",
       "      <td>NaN</td>\n",
       "      <td>NaN</td>\n",
       "      <td>The Godfather: Part II</td>\n",
       "    </tr>\n",
       "    <tr>\n",
       "      <td>4036</td>\n",
       "      <td>4069</td>\n",
       "      <td>Pulp Fiction</td>\n",
       "      <td>False</td>\n",
       "      <td>[Crime, Thriller]</td>\n",
       "      <td>en</td>\n",
       "      <td>33.662</td>\n",
       "      <td>1994-09-10</td>\n",
       "      <td>8.5</td>\n",
       "      <td>17549.0</td>\n",
       "      <td>NaN</td>\n",
       "      <td>NaN</td>\n",
       "      <td>NaN</td>\n",
       "      <td>NaN</td>\n",
       "      <td>NaN</td>\n",
       "      <td>NaN</td>\n",
       "      <td>NaN</td>\n",
       "      <td>NaN</td>\n",
       "      <td>Pulp Fiction</td>\n",
       "    </tr>\n",
       "    <tr>\n",
       "      <td>2968</td>\n",
       "      <td>2995</td>\n",
       "      <td>Life Is Beautiful</td>\n",
       "      <td>False</td>\n",
       "      <td>[Comedy, Drama]</td>\n",
       "      <td>it</td>\n",
       "      <td>18.861</td>\n",
       "      <td>1997-12-20</td>\n",
       "      <td>8.5</td>\n",
       "      <td>8243.0</td>\n",
       "      <td>NaN</td>\n",
       "      <td>NaN</td>\n",
       "      <td>NaN</td>\n",
       "      <td>NaN</td>\n",
       "      <td>NaN</td>\n",
       "      <td>NaN</td>\n",
       "      <td>NaN</td>\n",
       "      <td>NaN</td>\n",
       "      <td>Life Is Beautiful</td>\n",
       "    </tr>\n",
       "    <tr>\n",
       "      <td>5416</td>\n",
       "      <td>5459</td>\n",
       "      <td>The Green Mile</td>\n",
       "      <td>False</td>\n",
       "      <td>[Fantasy, Drama, Crime]</td>\n",
       "      <td>en</td>\n",
       "      <td>22.835</td>\n",
       "      <td>1999-12-10</td>\n",
       "      <td>8.5</td>\n",
       "      <td>9500.0</td>\n",
       "      <td>Dec 10, 1999</td>\n",
       "      <td>$60,000,000</td>\n",
       "      <td>NaN</td>\n",
       "      <td>$290,701,374</td>\n",
       "      <td>$136,801,374</td>\n",
       "      <td>NaN</td>\n",
       "      <td>NaN</td>\n",
       "      <td>NaN</td>\n",
       "      <td>The Green Mile</td>\n",
       "    </tr>\n",
       "    <tr>\n",
       "      <td>6812</td>\n",
       "      <td>6867</td>\n",
       "      <td>Your Name.</td>\n",
       "      <td>False</td>\n",
       "      <td>[Animation, Drama, Romance]</td>\n",
       "      <td>ja</td>\n",
       "      <td>33.007</td>\n",
       "      <td>2016-08-26</td>\n",
       "      <td>8.5</td>\n",
       "      <td>5018.0</td>\n",
       "      <td>NaN</td>\n",
       "      <td>NaN</td>\n",
       "      <td>22.0</td>\n",
       "      <td>$358,922,706</td>\n",
       "      <td>$5,017,246</td>\n",
       "      <td>1.4%</td>\n",
       "      <td>$353,905,460</td>\n",
       "      <td>98.6%</td>\n",
       "      <td>Your Name.</td>\n",
       "    </tr>\n",
       "    <tr>\n",
       "      <td>5405</td>\n",
       "      <td>5447</td>\n",
       "      <td>The Great Dictator</td>\n",
       "      <td>False</td>\n",
       "      <td>[Comedy]</td>\n",
       "      <td>en</td>\n",
       "      <td>14.358</td>\n",
       "      <td>1940-10-15</td>\n",
       "      <td>8.4</td>\n",
       "      <td>1738.0</td>\n",
       "      <td>NaN</td>\n",
       "      <td>NaN</td>\n",
       "      <td>NaN</td>\n",
       "      <td>NaN</td>\n",
       "      <td>NaN</td>\n",
       "      <td>NaN</td>\n",
       "      <td>NaN</td>\n",
       "      <td>NaN</td>\n",
       "      <td>The Great Dictator</td>\n",
       "    </tr>\n",
       "    <tr>\n",
       "      <td>2387</td>\n",
       "      <td>2406</td>\n",
       "      <td>Howl's Moving Castle</td>\n",
       "      <td>False</td>\n",
       "      <td>[Adventure, Animation, Fantasy]</td>\n",
       "      <td>ja</td>\n",
       "      <td>24.681</td>\n",
       "      <td>2004-11-19</td>\n",
       "      <td>8.4</td>\n",
       "      <td>4554.0</td>\n",
       "      <td>NaN</td>\n",
       "      <td>NaN</td>\n",
       "      <td>NaN</td>\n",
       "      <td>NaN</td>\n",
       "      <td>NaN</td>\n",
       "      <td>NaN</td>\n",
       "      <td>NaN</td>\n",
       "      <td>NaN</td>\n",
       "      <td>Howl's Moving Castle</td>\n",
       "    </tr>\n",
       "    <tr>\n",
       "      <td>6332</td>\n",
       "      <td>6384</td>\n",
       "      <td>Tokyo Story</td>\n",
       "      <td>False</td>\n",
       "      <td>[Drama]</td>\n",
       "      <td>ja</td>\n",
       "      <td>14.974</td>\n",
       "      <td>1953-11-03</td>\n",
       "      <td>8.4</td>\n",
       "      <td>431.0</td>\n",
       "      <td>NaN</td>\n",
       "      <td>NaN</td>\n",
       "      <td>NaN</td>\n",
       "      <td>NaN</td>\n",
       "      <td>NaN</td>\n",
       "      <td>NaN</td>\n",
       "      <td>NaN</td>\n",
       "      <td>NaN</td>\n",
       "      <td>Tokyo Story</td>\n",
       "    </tr>\n",
       "    <tr>\n",
       "      <td>5185</td>\n",
       "      <td>5226</td>\n",
       "      <td>The Dark Knight</td>\n",
       "      <td>False</td>\n",
       "      <td>[Action, Crime, Drama, Thriller]</td>\n",
       "      <td>en</td>\n",
       "      <td>31.704</td>\n",
       "      <td>2008-07-16</td>\n",
       "      <td>8.4</td>\n",
       "      <td>21095.0</td>\n",
       "      <td>Jul 18, 2008</td>\n",
       "      <td>$185,000,000</td>\n",
       "      <td>NaN</td>\n",
       "      <td>$1,003,509,293</td>\n",
       "      <td>$535,234,033</td>\n",
       "      <td>NaN</td>\n",
       "      <td>NaN</td>\n",
       "      <td>NaN</td>\n",
       "      <td>The Dark Knight</td>\n",
       "    </tr>\n",
       "    <tr>\n",
       "      <td>1883</td>\n",
       "      <td>1892</td>\n",
       "      <td>Forrest Gump</td>\n",
       "      <td>False</td>\n",
       "      <td>[Comedy, Drama, Romance]</td>\n",
       "      <td>en</td>\n",
       "      <td>28.383</td>\n",
       "      <td>1994-07-06</td>\n",
       "      <td>8.4</td>\n",
       "      <td>16934.0</td>\n",
       "      <td>Jul 6, 1994</td>\n",
       "      <td>$55,000,000</td>\n",
       "      <td>NaN</td>\n",
       "      <td>$679,850,637</td>\n",
       "      <td>$330,151,138</td>\n",
       "      <td>NaN</td>\n",
       "      <td>NaN</td>\n",
       "      <td>NaN</td>\n",
       "      <td>Forrest Gump</td>\n",
       "    </tr>\n",
       "    <tr>\n",
       "      <td>2122</td>\n",
       "      <td>2138</td>\n",
       "      <td>Grave of the Fireflies</td>\n",
       "      <td>False</td>\n",
       "      <td>[Animation, Drama, War]</td>\n",
       "      <td>ja</td>\n",
       "      <td>0.600</td>\n",
       "      <td>1988-04-16</td>\n",
       "      <td>8.4</td>\n",
       "      <td>2449.0</td>\n",
       "      <td>NaN</td>\n",
       "      <td>NaN</td>\n",
       "      <td>439.0</td>\n",
       "      <td>$516,962</td>\n",
       "      <td>$516,962</td>\n",
       "      <td>100%</td>\n",
       "      <td>-</td>\n",
       "      <td>-</td>\n",
       "      <td>Grave of the Fireflies</td>\n",
       "    </tr>\n",
       "    <tr>\n",
       "      <td>5390</td>\n",
       "      <td>5432</td>\n",
       "      <td>The Good, the Bad and the Ugly</td>\n",
       "      <td>False</td>\n",
       "      <td>[Western]</td>\n",
       "      <td>it</td>\n",
       "      <td>20.430</td>\n",
       "      <td>1966-12-23</td>\n",
       "      <td>8.4</td>\n",
       "      <td>4683.0</td>\n",
       "      <td>NaN</td>\n",
       "      <td>NaN</td>\n",
       "      <td>NaN</td>\n",
       "      <td>NaN</td>\n",
       "      <td>NaN</td>\n",
       "      <td>NaN</td>\n",
       "      <td>NaN</td>\n",
       "      <td>NaN</td>\n",
       "      <td>The Good, the Bad and the Ugly</td>\n",
       "    </tr>\n",
       "    <tr>\n",
       "      <td>2102</td>\n",
       "      <td>2118</td>\n",
       "      <td>GoodFellas</td>\n",
       "      <td>False</td>\n",
       "      <td>[Drama, Crime]</td>\n",
       "      <td>en</td>\n",
       "      <td>24.381</td>\n",
       "      <td>1990-09-12</td>\n",
       "      <td>8.4</td>\n",
       "      <td>6735.0</td>\n",
       "      <td>NaN</td>\n",
       "      <td>NaN</td>\n",
       "      <td>NaN</td>\n",
       "      <td>NaN</td>\n",
       "      <td>NaN</td>\n",
       "      <td>NaN</td>\n",
       "      <td>NaN</td>\n",
       "      <td>NaN</td>\n",
       "      <td>GoodFellas</td>\n",
       "    </tr>\n",
       "    <tr>\n",
       "      <td>2477</td>\n",
       "      <td>2496</td>\n",
       "      <td>Ikiru</td>\n",
       "      <td>False</td>\n",
       "      <td>[Drama]</td>\n",
       "      <td>ja</td>\n",
       "      <td>10.460</td>\n",
       "      <td>1952-10-09</td>\n",
       "      <td>8.4</td>\n",
       "      <td>459.0</td>\n",
       "      <td>NaN</td>\n",
       "      <td>NaN</td>\n",
       "      <td>NaN</td>\n",
       "      <td>NaN</td>\n",
       "      <td>NaN</td>\n",
       "      <td>NaN</td>\n",
       "      <td>NaN</td>\n",
       "      <td>NaN</td>\n",
       "      <td>Ikiru</td>\n",
       "    </tr>\n",
       "  </tbody>\n",
       "</table>\n",
       "</div>"
      ],
      "text/plain": [
       "      Unnamed: 0                           title  adult  \\\n",
       "1451        1459     Dilwale Dulhania Le Jayenge  False   \n",
       "5375        5417                   The Godfather  False   \n",
       "6006        6056        The Shawshank Redemption  False   \n",
       "4351        4388                Schindler's List  False   \n",
       "3829        3860                        Parasite  False   \n",
       "4637        4674                   Spirited Away  False   \n",
       "5376        5418          The Godfather: Part II  False   \n",
       "4036        4069                    Pulp Fiction  False   \n",
       "2968        2995               Life Is Beautiful  False   \n",
       "5416        5459                  The Green Mile  False   \n",
       "6812        6867                      Your Name.  False   \n",
       "5405        5447              The Great Dictator  False   \n",
       "2387        2406            Howl's Moving Castle  False   \n",
       "6332        6384                     Tokyo Story  False   \n",
       "5185        5226                 The Dark Knight  False   \n",
       "1883        1892                    Forrest Gump  False   \n",
       "2122        2138          Grave of the Fireflies  False   \n",
       "5390        5432  The Good, the Bad and the Ugly  False   \n",
       "2102        2118                      GoodFellas  False   \n",
       "2477        2496                           Ikiru  False   \n",
       "\n",
       "                             genre_ids original_language  popularity  \\\n",
       "1451          [Comedy, Drama, Romance]                hi      21.867   \n",
       "5375                    [Crime, Drama]                en      29.365   \n",
       "6006                    [Drama, Crime]                en      36.004   \n",
       "4351             [Drama, History, War]                en      23.746   \n",
       "3829         [Comedy, Drama, Thriller]                ko     148.987   \n",
       "4637      [Animation, Fantasy, Family]                ja      39.522   \n",
       "5376                    [Crime, Drama]                en      21.992   \n",
       "4036                 [Crime, Thriller]                en      33.662   \n",
       "2968                   [Comedy, Drama]                it      18.861   \n",
       "5416           [Fantasy, Drama, Crime]                en      22.835   \n",
       "6812       [Animation, Drama, Romance]                ja      33.007   \n",
       "5405                          [Comedy]                en      14.358   \n",
       "2387   [Adventure, Animation, Fantasy]                ja      24.681   \n",
       "6332                           [Drama]                ja      14.974   \n",
       "5185  [Action, Crime, Drama, Thriller]                en      31.704   \n",
       "1883          [Comedy, Drama, Romance]                en      28.383   \n",
       "2122           [Animation, Drama, War]                ja       0.600   \n",
       "5390                         [Western]                it      20.430   \n",
       "2102                    [Drama, Crime]                en      24.381   \n",
       "2477                           [Drama]                ja      10.460   \n",
       "\n",
       "     release_date  vote_average  vote_count          Date         Budget  \\\n",
       "1451   1995-10-20           8.8      2214.0           NaN            NaN   \n",
       "5375   1972-03-14           8.7     11487.0           NaN            NaN   \n",
       "6006   1994-09-23           8.7     15047.0           NaN            NaN   \n",
       "4351   1993-11-30           8.6      9163.0           NaN            NaN   \n",
       "3829   2019-05-30           8.6      4756.0           NaN            NaN   \n",
       "4637   2001-07-20           8.5      8569.0           NaN            NaN   \n",
       "5376   1974-12-20           8.5      6754.0           NaN            NaN   \n",
       "4036   1994-09-10           8.5     17549.0           NaN            NaN   \n",
       "2968   1997-12-20           8.5      8243.0           NaN            NaN   \n",
       "5416   1999-12-10           8.5      9500.0  Dec 10, 1999    $60,000,000   \n",
       "6812   2016-08-26           8.5      5018.0           NaN            NaN   \n",
       "5405   1940-10-15           8.4      1738.0           NaN            NaN   \n",
       "2387   2004-11-19           8.4      4554.0           NaN            NaN   \n",
       "6332   1953-11-03           8.4       431.0           NaN            NaN   \n",
       "5185   2008-07-16           8.4     21095.0  Jul 18, 2008   $185,000,000   \n",
       "1883   1994-07-06           8.4     16934.0   Jul 6, 1994    $55,000,000   \n",
       "2122   1988-04-16           8.4      2449.0           NaN            NaN   \n",
       "5390   1966-12-23           8.4      4683.0           NaN            NaN   \n",
       "2102   1990-09-12           8.4      6735.0           NaN            NaN   \n",
       "2477   1952-10-09           8.4       459.0           NaN            NaN   \n",
       "\n",
       "       Rank        Worldwide       Domestic      %       Foreign    %.1  \\\n",
       "1451    NaN              NaN            NaN    NaN           NaN    NaN   \n",
       "5375    NaN              NaN            NaN    NaN           NaN    NaN   \n",
       "6006    NaN              NaN            NaN    NaN           NaN    NaN   \n",
       "4351    NaN              NaN            NaN    NaN           NaN    NaN   \n",
       "3829   35.0     $232,076,982    $51,609,136  22.2%  $180,467,846  77.8%   \n",
       "4637    NaN              NaN            NaN    NaN           NaN    NaN   \n",
       "5376    NaN              NaN            NaN    NaN           NaN    NaN   \n",
       "4036    NaN              NaN            NaN    NaN           NaN    NaN   \n",
       "2968    NaN              NaN            NaN    NaN           NaN    NaN   \n",
       "5416    NaN     $290,701,374   $136,801,374    NaN           NaN    NaN   \n",
       "6812   22.0     $358,922,706     $5,017,246   1.4%  $353,905,460  98.6%   \n",
       "5405    NaN              NaN            NaN    NaN           NaN    NaN   \n",
       "2387    NaN              NaN            NaN    NaN           NaN    NaN   \n",
       "6332    NaN              NaN            NaN    NaN           NaN    NaN   \n",
       "5185    NaN   $1,003,509,293   $535,234,033    NaN           NaN    NaN   \n",
       "1883    NaN     $679,850,637   $330,151,138    NaN           NaN    NaN   \n",
       "2122  439.0         $516,962       $516,962   100%             -      -   \n",
       "5390    NaN              NaN            NaN    NaN           NaN    NaN   \n",
       "2102    NaN              NaN            NaN    NaN           NaN    NaN   \n",
       "2477    NaN              NaN            NaN    NaN           NaN    NaN   \n",
       "\n",
       "                               Title  \n",
       "1451     Dilwale Dulhania Le Jayenge  \n",
       "5375                   The Godfather  \n",
       "6006        The Shawshank Redemption  \n",
       "4351                Schindler's List  \n",
       "3829                        Parasite  \n",
       "4637                   Spirited Away  \n",
       "5376          The Godfather: Part II  \n",
       "4036                    Pulp Fiction  \n",
       "2968               Life Is Beautiful  \n",
       "5416                  The Green Mile  \n",
       "6812                      Your Name.  \n",
       "5405              The Great Dictator  \n",
       "2387            Howl's Moving Castle  \n",
       "6332                     Tokyo Story  \n",
       "5185                 The Dark Knight  \n",
       "1883                    Forrest Gump  \n",
       "2122          Grave of the Fireflies  \n",
       "5390  The Good, the Bad and the Ugly  \n",
       "2102                      GoodFellas  \n",
       "2477                           Ikiru  "
      ]
     },
     "execution_count": 147,
     "metadata": {},
     "output_type": "execute_result"
    }
   ],
   "source": [
    "df.sort_values(by='vote_average',ascending=False).head(20)"
   ]
  },
  {
   "cell_type": "code",
   "execution_count": 153,
   "metadata": {},
   "outputs": [],
   "source": [
    "best_rated_df = df[df['vote_average'] >= 8]"
   ]
  },
  {
   "cell_type": "code",
   "execution_count": 154,
   "metadata": {},
   "outputs": [
    {
     "data": {
      "text/html": [
       "<div>\n",
       "<style scoped>\n",
       "    .dataframe tbody tr th:only-of-type {\n",
       "        vertical-align: middle;\n",
       "    }\n",
       "\n",
       "    .dataframe tbody tr th {\n",
       "        vertical-align: top;\n",
       "    }\n",
       "\n",
       "    .dataframe thead th {\n",
       "        text-align: right;\n",
       "    }\n",
       "</style>\n",
       "<table border=\"1\" class=\"dataframe\">\n",
       "  <thead>\n",
       "    <tr style=\"text-align: right;\">\n",
       "      <th></th>\n",
       "      <th>Unnamed: 0</th>\n",
       "      <th>title</th>\n",
       "      <th>adult</th>\n",
       "      <th>genre_ids</th>\n",
       "      <th>original_language</th>\n",
       "      <th>popularity</th>\n",
       "      <th>release_date</th>\n",
       "      <th>vote_average</th>\n",
       "      <th>vote_count</th>\n",
       "      <th>Date</th>\n",
       "      <th>Budget</th>\n",
       "      <th>Rank</th>\n",
       "      <th>Worldwide</th>\n",
       "      <th>Domestic</th>\n",
       "      <th>%</th>\n",
       "      <th>Foreign</th>\n",
       "      <th>%.1</th>\n",
       "      <th>Title</th>\n",
       "    </tr>\n",
       "  </thead>\n",
       "  <tbody>\n",
       "    <tr>\n",
       "      <td>14</td>\n",
       "      <td>14</td>\n",
       "      <td>12 Angry Men</td>\n",
       "      <td>False</td>\n",
       "      <td>[Drama]</td>\n",
       "      <td>en</td>\n",
       "      <td>20.325</td>\n",
       "      <td>1957-04-10</td>\n",
       "      <td>8.4</td>\n",
       "      <td>4362.0</td>\n",
       "      <td>NaN</td>\n",
       "      <td>NaN</td>\n",
       "      <td>NaN</td>\n",
       "      <td>NaN</td>\n",
       "      <td>NaN</td>\n",
       "      <td>NaN</td>\n",
       "      <td>NaN</td>\n",
       "      <td>NaN</td>\n",
       "      <td>12 Angry Men</td>\n",
       "    </tr>\n",
       "    <tr>\n",
       "      <td>29</td>\n",
       "      <td>29</td>\n",
       "      <td>1917</td>\n",
       "      <td>False</td>\n",
       "      <td>[Action, Drama, War]</td>\n",
       "      <td>en</td>\n",
       "      <td>70.660</td>\n",
       "      <td>2019-12-10</td>\n",
       "      <td>8.0</td>\n",
       "      <td>2963.0</td>\n",
       "      <td>Dec 25, 2019</td>\n",
       "      <td>$100,000,000</td>\n",
       "      <td>25.0</td>\n",
       "      <td>$362,628,024</td>\n",
       "      <td>$156,128,024</td>\n",
       "      <td>43.1%</td>\n",
       "      <td>$206,500,000</td>\n",
       "      <td>56.9%</td>\n",
       "      <td>1917</td>\n",
       "    </tr>\n",
       "    <tr>\n",
       "      <td>37</td>\n",
       "      <td>37</td>\n",
       "      <td>2001: A Space Odyssey</td>\n",
       "      <td>False</td>\n",
       "      <td>[Adventure, Mystery, Science Fiction]</td>\n",
       "      <td>en</td>\n",
       "      <td>23.647</td>\n",
       "      <td>1968-04-09</td>\n",
       "      <td>8.1</td>\n",
       "      <td>6730.0</td>\n",
       "      <td>NaN</td>\n",
       "      <td>NaN</td>\n",
       "      <td>NaN</td>\n",
       "      <td>NaN</td>\n",
       "      <td>NaN</td>\n",
       "      <td>NaN</td>\n",
       "      <td>NaN</td>\n",
       "      <td>NaN</td>\n",
       "      <td>2001: A Space Odyssey</td>\n",
       "    </tr>\n",
       "    <tr>\n",
       "      <td>98</td>\n",
       "      <td>98</td>\n",
       "      <td>8½</td>\n",
       "      <td>False</td>\n",
       "      <td>[Fantasy, Drama]</td>\n",
       "      <td>it</td>\n",
       "      <td>14.477</td>\n",
       "      <td>1963-02-14</td>\n",
       "      <td>8.3</td>\n",
       "      <td>1080.0</td>\n",
       "      <td>NaN</td>\n",
       "      <td>NaN</td>\n",
       "      <td>NaN</td>\n",
       "      <td>NaN</td>\n",
       "      <td>NaN</td>\n",
       "      <td>NaN</td>\n",
       "      <td>NaN</td>\n",
       "      <td>NaN</td>\n",
       "      <td>8½</td>\n",
       "    </tr>\n",
       "    <tr>\n",
       "      <td>130</td>\n",
       "      <td>130</td>\n",
       "      <td>A Clockwork Orange</td>\n",
       "      <td>False</td>\n",
       "      <td>[Drama, Science Fiction]</td>\n",
       "      <td>en</td>\n",
       "      <td>20.022</td>\n",
       "      <td>1971-12-18</td>\n",
       "      <td>8.2</td>\n",
       "      <td>7789.0</td>\n",
       "      <td>NaN</td>\n",
       "      <td>NaN</td>\n",
       "      <td>NaN</td>\n",
       "      <td>NaN</td>\n",
       "      <td>NaN</td>\n",
       "      <td>NaN</td>\n",
       "      <td>NaN</td>\n",
       "      <td>NaN</td>\n",
       "      <td>A Clockwork Orange</td>\n",
       "    </tr>\n",
       "    <tr>\n",
       "      <td>...</td>\n",
       "      <td>...</td>\n",
       "      <td>...</td>\n",
       "      <td>...</td>\n",
       "      <td>...</td>\n",
       "      <td>...</td>\n",
       "      <td>...</td>\n",
       "      <td>...</td>\n",
       "      <td>...</td>\n",
       "      <td>...</td>\n",
       "      <td>...</td>\n",
       "      <td>...</td>\n",
       "      <td>...</td>\n",
       "      <td>...</td>\n",
       "      <td>...</td>\n",
       "      <td>...</td>\n",
       "      <td>...</td>\n",
       "      <td>...</td>\n",
       "      <td>...</td>\n",
       "    </tr>\n",
       "    <tr>\n",
       "      <td>6742</td>\n",
       "      <td>6795</td>\n",
       "      <td>Witness for the Prosecution</td>\n",
       "      <td>False</td>\n",
       "      <td>[Crime, Drama, Mystery]</td>\n",
       "      <td>en</td>\n",
       "      <td>12.277</td>\n",
       "      <td>1957-12-17</td>\n",
       "      <td>8.3</td>\n",
       "      <td>599.0</td>\n",
       "      <td>NaN</td>\n",
       "      <td>NaN</td>\n",
       "      <td>NaN</td>\n",
       "      <td>NaN</td>\n",
       "      <td>NaN</td>\n",
       "      <td>NaN</td>\n",
       "      <td>NaN</td>\n",
       "      <td>NaN</td>\n",
       "      <td>Witness for the Prosecution</td>\n",
       "    </tr>\n",
       "    <tr>\n",
       "      <td>6744</td>\n",
       "      <td>6797</td>\n",
       "      <td>Wolf Children</td>\n",
       "      <td>False</td>\n",
       "      <td>[Animation, Drama, Fantasy, Family]</td>\n",
       "      <td>ja</td>\n",
       "      <td>17.374</td>\n",
       "      <td>2012-07-21</td>\n",
       "      <td>8.2</td>\n",
       "      <td>1218.0</td>\n",
       "      <td>NaN</td>\n",
       "      <td>NaN</td>\n",
       "      <td>NaN</td>\n",
       "      <td>NaN</td>\n",
       "      <td>NaN</td>\n",
       "      <td>NaN</td>\n",
       "      <td>NaN</td>\n",
       "      <td>NaN</td>\n",
       "      <td>Wolf Children</td>\n",
       "    </tr>\n",
       "    <tr>\n",
       "      <td>6753</td>\n",
       "      <td>6806</td>\n",
       "      <td>Wonder</td>\n",
       "      <td>False</td>\n",
       "      <td>[Drama]</td>\n",
       "      <td>en</td>\n",
       "      <td>23.794</td>\n",
       "      <td>2017-11-13</td>\n",
       "      <td>8.2</td>\n",
       "      <td>4667.0</td>\n",
       "      <td>NaN</td>\n",
       "      <td>NaN</td>\n",
       "      <td>31.0</td>\n",
       "      <td>$305,937,718</td>\n",
       "      <td>$132,422,809</td>\n",
       "      <td>43.3%</td>\n",
       "      <td>$173,514,909</td>\n",
       "      <td>56.7%</td>\n",
       "      <td>Wonder</td>\n",
       "    </tr>\n",
       "    <tr>\n",
       "      <td>6801</td>\n",
       "      <td>6856</td>\n",
       "      <td>Yojimbo</td>\n",
       "      <td>False</td>\n",
       "      <td>[Drama, Thriller]</td>\n",
       "      <td>ja</td>\n",
       "      <td>17.304</td>\n",
       "      <td>1961-04-25</td>\n",
       "      <td>8.2</td>\n",
       "      <td>664.0</td>\n",
       "      <td>NaN</td>\n",
       "      <td>NaN</td>\n",
       "      <td>NaN</td>\n",
       "      <td>NaN</td>\n",
       "      <td>NaN</td>\n",
       "      <td>NaN</td>\n",
       "      <td>NaN</td>\n",
       "      <td>NaN</td>\n",
       "      <td>Yojimbo</td>\n",
       "    </tr>\n",
       "    <tr>\n",
       "      <td>6812</td>\n",
       "      <td>6867</td>\n",
       "      <td>Your Name.</td>\n",
       "      <td>False</td>\n",
       "      <td>[Animation, Drama, Romance]</td>\n",
       "      <td>ja</td>\n",
       "      <td>33.007</td>\n",
       "      <td>2016-08-26</td>\n",
       "      <td>8.5</td>\n",
       "      <td>5018.0</td>\n",
       "      <td>NaN</td>\n",
       "      <td>NaN</td>\n",
       "      <td>22.0</td>\n",
       "      <td>$358,922,706</td>\n",
       "      <td>$5,017,246</td>\n",
       "      <td>1.4%</td>\n",
       "      <td>$353,905,460</td>\n",
       "      <td>98.6%</td>\n",
       "      <td>Your Name.</td>\n",
       "    </tr>\n",
       "  </tbody>\n",
       "</table>\n",
       "<p>280 rows × 18 columns</p>\n",
       "</div>"
      ],
      "text/plain": [
       "      Unnamed: 0                        title  adult  \\\n",
       "14            14                 12 Angry Men  False   \n",
       "29            29                         1917  False   \n",
       "37            37        2001: A Space Odyssey  False   \n",
       "98            98                           8½  False   \n",
       "130          130           A Clockwork Orange  False   \n",
       "...          ...                          ...    ...   \n",
       "6742        6795  Witness for the Prosecution  False   \n",
       "6744        6797                Wolf Children  False   \n",
       "6753        6806                       Wonder  False   \n",
       "6801        6856                      Yojimbo  False   \n",
       "6812        6867                   Your Name.  False   \n",
       "\n",
       "                                  genre_ids original_language  popularity  \\\n",
       "14                                  [Drama]                en      20.325   \n",
       "29                     [Action, Drama, War]                en      70.660   \n",
       "37    [Adventure, Mystery, Science Fiction]                en      23.647   \n",
       "98                         [Fantasy, Drama]                it      14.477   \n",
       "130                [Drama, Science Fiction]                en      20.022   \n",
       "...                                     ...               ...         ...   \n",
       "6742                [Crime, Drama, Mystery]                en      12.277   \n",
       "6744    [Animation, Drama, Fantasy, Family]                ja      17.374   \n",
       "6753                                [Drama]                en      23.794   \n",
       "6801                      [Drama, Thriller]                ja      17.304   \n",
       "6812            [Animation, Drama, Romance]                ja      33.007   \n",
       "\n",
       "     release_date  vote_average  vote_count          Date         Budget  \\\n",
       "14     1957-04-10           8.4      4362.0           NaN            NaN   \n",
       "29     2019-12-10           8.0      2963.0  Dec 25, 2019   $100,000,000   \n",
       "37     1968-04-09           8.1      6730.0           NaN            NaN   \n",
       "98     1963-02-14           8.3      1080.0           NaN            NaN   \n",
       "130    1971-12-18           8.2      7789.0           NaN            NaN   \n",
       "...           ...           ...         ...           ...            ...   \n",
       "6742   1957-12-17           8.3       599.0           NaN            NaN   \n",
       "6744   2012-07-21           8.2      1218.0           NaN            NaN   \n",
       "6753   2017-11-13           8.2      4667.0           NaN            NaN   \n",
       "6801   1961-04-25           8.2       664.0           NaN            NaN   \n",
       "6812   2016-08-26           8.5      5018.0           NaN            NaN   \n",
       "\n",
       "      Rank     Worldwide      Domestic      %       Foreign    %.1  \\\n",
       "14     NaN           NaN           NaN    NaN           NaN    NaN   \n",
       "29    25.0  $362,628,024  $156,128,024  43.1%  $206,500,000  56.9%   \n",
       "37     NaN           NaN           NaN    NaN           NaN    NaN   \n",
       "98     NaN           NaN           NaN    NaN           NaN    NaN   \n",
       "130    NaN           NaN           NaN    NaN           NaN    NaN   \n",
       "...    ...           ...           ...    ...           ...    ...   \n",
       "6742   NaN           NaN           NaN    NaN           NaN    NaN   \n",
       "6744   NaN           NaN           NaN    NaN           NaN    NaN   \n",
       "6753  31.0  $305,937,718  $132,422,809  43.3%  $173,514,909  56.7%   \n",
       "6801   NaN           NaN           NaN    NaN           NaN    NaN   \n",
       "6812  22.0  $358,922,706    $5,017,246   1.4%  $353,905,460  98.6%   \n",
       "\n",
       "                            Title  \n",
       "14                   12 Angry Men  \n",
       "29                           1917  \n",
       "37          2001: A Space Odyssey  \n",
       "98                             8½  \n",
       "130            A Clockwork Orange  \n",
       "...                           ...  \n",
       "6742  Witness for the Prosecution  \n",
       "6744                Wolf Children  \n",
       "6753                       Wonder  \n",
       "6801                      Yojimbo  \n",
       "6812                   Your Name.  \n",
       "\n",
       "[280 rows x 18 columns]"
      ]
     },
     "execution_count": 154,
     "metadata": {},
     "output_type": "execute_result"
    }
   ],
   "source": [
    "best_rated_df"
   ]
  },
  {
   "cell_type": "code",
   "execution_count": 155,
   "metadata": {},
   "outputs": [
    {
     "data": {
      "text/plain": [
       "206"
      ]
     },
     "execution_count": 155,
     "metadata": {},
     "output_type": "execute_result"
    }
   ],
   "source": [
    "best_rated_df['genre_ids'].str.count('Drama').sum()"
   ]
  },
  {
   "cell_type": "code",
   "execution_count": 236,
   "metadata": {},
   "outputs": [],
   "source": [
    "# best_rated_df['genre_ids'].unique()"
   ]
  },
  {
   "cell_type": "code",
   "execution_count": 160,
   "metadata": {},
   "outputs": [
    {
     "data": {
      "text/plain": [
       "206"
      ]
     },
     "execution_count": 160,
     "metadata": {},
     "output_type": "execute_result"
    }
   ],
   "source": [
    "best_rated_df['genre_ids'].str.count('Drama').sum()"
   ]
  },
  {
   "cell_type": "code",
   "execution_count": 161,
   "metadata": {},
   "outputs": [
    {
     "data": {
      "text/plain": [
       "34"
      ]
     },
     "execution_count": 161,
     "metadata": {},
     "output_type": "execute_result"
    }
   ],
   "source": [
    "best_rated_df['genre_ids'].str.count('Action').sum()"
   ]
  },
  {
   "cell_type": "code",
   "execution_count": 162,
   "metadata": {},
   "outputs": [
    {
     "data": {
      "text/plain": [
       "41"
      ]
     },
     "execution_count": 162,
     "metadata": {},
     "output_type": "execute_result"
    }
   ],
   "source": [
    "best_rated_df['genre_ids'].str.count('Romance').sum()"
   ]
  },
  {
   "cell_type": "code",
   "execution_count": 163,
   "metadata": {},
   "outputs": [
    {
     "data": {
      "text/plain": [
       "29"
      ]
     },
     "execution_count": 163,
     "metadata": {},
     "output_type": "execute_result"
    }
   ],
   "source": [
    "best_rated_df['genre_ids'].str.count('Animation').sum()"
   ]
  },
  {
   "cell_type": "code",
   "execution_count": 164,
   "metadata": {},
   "outputs": [
    {
     "data": {
      "text/plain": [
       "19"
      ]
     },
     "execution_count": 164,
     "metadata": {},
     "output_type": "execute_result"
    }
   ],
   "source": [
    "best_rated_df['genre_ids'].str.count('Family').sum()"
   ]
  },
  {
   "cell_type": "code",
   "execution_count": 165,
   "metadata": {},
   "outputs": [
    {
     "data": {
      "text/plain": [
       "25"
      ]
     },
     "execution_count": 165,
     "metadata": {},
     "output_type": "execute_result"
    }
   ],
   "source": [
    "best_rated_df['genre_ids'].str.count('Fantasy').sum()"
   ]
  },
  {
   "cell_type": "code",
   "execution_count": 166,
   "metadata": {},
   "outputs": [
    {
     "data": {
      "text/plain": [
       "25"
      ]
     },
     "execution_count": 166,
     "metadata": {},
     "output_type": "execute_result"
    }
   ],
   "source": [
    "best_rated_df['genre_ids'].str.count('Science Fiction').sum()"
   ]
  },
  {
   "cell_type": "code",
   "execution_count": 167,
   "metadata": {},
   "outputs": [
    {
     "data": {
      "text/plain": [
       "44"
      ]
     },
     "execution_count": 167,
     "metadata": {},
     "output_type": "execute_result"
    }
   ],
   "source": [
    "best_rated_df['genre_ids'].str.count('Thriller').sum()"
   ]
  },
  {
   "cell_type": "code",
   "execution_count": 168,
   "metadata": {
    "scrolled": true
   },
   "outputs": [
    {
     "data": {
      "text/plain": [
       "28"
      ]
     },
     "execution_count": 168,
     "metadata": {},
     "output_type": "execute_result"
    }
   ],
   "source": [
    "best_rated_df['genre_ids'].str.count('Mystery').sum()"
   ]
  },
  {
   "cell_type": "code",
   "execution_count": 169,
   "metadata": {},
   "outputs": [
    {
     "data": {
      "text/plain": [
       "7"
      ]
     },
     "execution_count": 169,
     "metadata": {},
     "output_type": "execute_result"
    }
   ],
   "source": [
    "best_rated_df['genre_ids'].str.count('Horror').sum()"
   ]
  },
  {
   "cell_type": "code",
   "execution_count": 170,
   "metadata": {},
   "outputs": [
    {
     "data": {
      "text/plain": [
       "51"
      ]
     },
     "execution_count": 170,
     "metadata": {},
     "output_type": "execute_result"
    }
   ],
   "source": [
    "best_rated_df['genre_ids'].str.count('Crime').sum()"
   ]
  },
  {
   "cell_type": "code",
   "execution_count": 171,
   "metadata": {},
   "outputs": [
    {
     "data": {
      "text/plain": [
       "53"
      ]
     },
     "execution_count": 171,
     "metadata": {},
     "output_type": "execute_result"
    }
   ],
   "source": [
    "best_rated_df['genre_ids'].str.count('Comedy').sum()"
   ]
  },
  {
   "cell_type": "code",
   "execution_count": 172,
   "metadata": {},
   "outputs": [
    {
     "data": {
      "text/plain": [
       "33"
      ]
     },
     "execution_count": 172,
     "metadata": {},
     "output_type": "execute_result"
    }
   ],
   "source": [
    "best_rated_df['genre_ids'].str.count('Adventure').sum()"
   ]
  },
  {
   "cell_type": "code",
   "execution_count": 173,
   "metadata": {},
   "outputs": [
    {
     "data": {
      "text/plain": [
       "34"
      ]
     },
     "execution_count": 173,
     "metadata": {},
     "output_type": "execute_result"
    }
   ],
   "source": [
    "best_rated_df['genre_ids'].str.count('Action').sum()"
   ]
  },
  {
   "cell_type": "code",
   "execution_count": 174,
   "metadata": {},
   "outputs": [
    {
     "data": {
      "text/plain": [
       "6"
      ]
     },
     "execution_count": 174,
     "metadata": {},
     "output_type": "execute_result"
    }
   ],
   "source": [
    "best_rated_df['genre_ids'].str.count('Western').sum()"
   ]
  },
  {
   "cell_type": "code",
   "execution_count": 175,
   "metadata": {},
   "outputs": [
    {
     "data": {
      "text/plain": [
       "8"
      ]
     },
     "execution_count": 175,
     "metadata": {},
     "output_type": "execute_result"
    }
   ],
   "source": [
    "best_rated_df['genre_ids'].str.count('Music').sum()\n"
   ]
  },
  {
   "cell_type": "code",
   "execution_count": 176,
   "metadata": {},
   "outputs": [
    {
     "data": {
      "text/plain": [
       "27"
      ]
     },
     "execution_count": 176,
     "metadata": {},
     "output_type": "execute_result"
    }
   ],
   "source": [
    "best_rated_df['genre_ids'].str.count('War').sum()"
   ]
  },
  {
   "cell_type": "code",
   "execution_count": 177,
   "metadata": {},
   "outputs": [
    {
     "data": {
      "text/plain": [
       "2"
      ]
     },
     "execution_count": 177,
     "metadata": {},
     "output_type": "execute_result"
    }
   ],
   "source": [
    "best_rated_df['genre_ids'].str.count('TV Movie').sum()"
   ]
  },
  {
   "cell_type": "code",
   "execution_count": 178,
   "metadata": {
    "scrolled": true
   },
   "outputs": [
    {
     "data": {
      "text/plain": [
       "0"
      ]
     },
     "execution_count": 178,
     "metadata": {},
     "output_type": "execute_result"
    }
   ],
   "source": [
    "best_rated_df['genre_ids'].str.count('Documentary').sum()"
   ]
  },
  {
   "cell_type": "code",
   "execution_count": 209,
   "metadata": {},
   "outputs": [
    {
     "data": {
      "text/html": [
       "<div>\n",
       "<style scoped>\n",
       "    .dataframe tbody tr th:only-of-type {\n",
       "        vertical-align: middle;\n",
       "    }\n",
       "\n",
       "    .dataframe tbody tr th {\n",
       "        vertical-align: top;\n",
       "    }\n",
       "\n",
       "    .dataframe thead th {\n",
       "        text-align: right;\n",
       "    }\n",
       "</style>\n",
       "<table border=\"1\" class=\"dataframe\">\n",
       "  <thead>\n",
       "    <tr style=\"text-align: right;\">\n",
       "      <th></th>\n",
       "      <th>Name_of_Genres</th>\n",
       "      <th>Frequency</th>\n",
       "    </tr>\n",
       "  </thead>\n",
       "  <tbody>\n",
       "    <tr>\n",
       "      <td>0</td>\n",
       "      <td>Drama</td>\n",
       "      <td>206</td>\n",
       "    </tr>\n",
       "    <tr>\n",
       "      <td>1</td>\n",
       "      <td>Comedy</td>\n",
       "      <td>53</td>\n",
       "    </tr>\n",
       "    <tr>\n",
       "      <td>2</td>\n",
       "      <td>Crime</td>\n",
       "      <td>51</td>\n",
       "    </tr>\n",
       "    <tr>\n",
       "      <td>3</td>\n",
       "      <td>Thriller</td>\n",
       "      <td>44</td>\n",
       "    </tr>\n",
       "    <tr>\n",
       "      <td>4</td>\n",
       "      <td>Romance</td>\n",
       "      <td>41</td>\n",
       "    </tr>\n",
       "    <tr>\n",
       "      <td>5</td>\n",
       "      <td>Action</td>\n",
       "      <td>34</td>\n",
       "    </tr>\n",
       "    <tr>\n",
       "      <td>6</td>\n",
       "      <td>Adventure</td>\n",
       "      <td>33</td>\n",
       "    </tr>\n",
       "    <tr>\n",
       "      <td>7</td>\n",
       "      <td>Animation</td>\n",
       "      <td>29</td>\n",
       "    </tr>\n",
       "    <tr>\n",
       "      <td>8</td>\n",
       "      <td>Mystery</td>\n",
       "      <td>28</td>\n",
       "    </tr>\n",
       "    <tr>\n",
       "      <td>9</td>\n",
       "      <td>War</td>\n",
       "      <td>27</td>\n",
       "    </tr>\n",
       "    <tr>\n",
       "      <td>10</td>\n",
       "      <td>Fantasy</td>\n",
       "      <td>25</td>\n",
       "    </tr>\n",
       "    <tr>\n",
       "      <td>11</td>\n",
       "      <td>Science Fiction</td>\n",
       "      <td>25</td>\n",
       "    </tr>\n",
       "    <tr>\n",
       "      <td>12</td>\n",
       "      <td>Music</td>\n",
       "      <td>8</td>\n",
       "    </tr>\n",
       "    <tr>\n",
       "      <td>13</td>\n",
       "      <td>Horror</td>\n",
       "      <td>7</td>\n",
       "    </tr>\n",
       "    <tr>\n",
       "      <td>14</td>\n",
       "      <td>Western</td>\n",
       "      <td>6</td>\n",
       "    </tr>\n",
       "    <tr>\n",
       "      <td>15</td>\n",
       "      <td>TV Movie</td>\n",
       "      <td>2</td>\n",
       "    </tr>\n",
       "    <tr>\n",
       "      <td>16</td>\n",
       "      <td>Documentary</td>\n",
       "      <td>0</td>\n",
       "    </tr>\n",
       "  </tbody>\n",
       "</table>\n",
       "</div>"
      ],
      "text/plain": [
       "     Name_of_Genres  Frequency\n",
       "0             Drama        206\n",
       "1            Comedy         53\n",
       "2             Crime         51\n",
       "3          Thriller         44\n",
       "4           Romance         41\n",
       "5            Action         34\n",
       "6         Adventure         33\n",
       "7         Animation         29\n",
       "8           Mystery         28\n",
       "9               War         27\n",
       "10          Fantasy         25\n",
       "11  Science Fiction         25\n",
       "12            Music          8\n",
       "13           Horror          7\n",
       "14          Western          6\n",
       "15         TV Movie          2\n",
       "16      Documentary          0"
      ]
     },
     "execution_count": 209,
     "metadata": {},
     "output_type": "execute_result"
    }
   ],
   "source": [
    "data = [['Drama', 206], ['Comedy',53],['Crime',51],['Thriller',44], ['Romance', 41],['Action', 34],['Adventure',33],\n",
    "        ['Animation',29],['Mystery' ,28],['War',27],['Fantasy',25],['Science Fiction',25],['Music',8],['Horror',7],\n",
    "        ['Western',6],['TV Movie',2], ['Documentary',0]] \n",
    "  \n",
    "# Create the pandas DataFrame \n",
    "df_genres = pd.DataFrame(data, columns = ['Name_of_Genres', 'Frequency']) \n",
    "  \n",
    "# print dataframe. \n",
    "df_genres"
   ]
  },
  {
   "cell_type": "code",
   "execution_count": 210,
   "metadata": {},
   "outputs": [],
   "source": [
    "import numpy as np\n",
    "\n",
    "import seaborn as sns; sns.set()\n",
    "import matplotlib.pyplot as plt\n",
    "%matplotlib inline"
   ]
  },
  {
   "cell_type": "code",
   "execution_count": 211,
   "metadata": {},
   "outputs": [],
   "source": [
    "x = df_genres['Name_of_Genres']\n",
    "y = df_genres['Frequency']"
   ]
  },
  {
   "cell_type": "code",
   "execution_count": 235,
   "metadata": {},
   "outputs": [
    {
     "data": {
      "image/png": "[encoded data removed]",
      "text/plain": [
       "<Figure size 1800x720 with 1 Axes>"
      ]
     },
     "metadata": {
      "needs_background": "light"
     },
     "output_type": "display_data"
    }
   ],
   "source": [
    "plt.figure(figsize=(25,10))\n",
    "plt.bar(x,y,color='b')\n",
    "plt.title(\"Best Rated Films Genres Frequency\",size=60)\n",
    "plt.xlabel('Genres',size=40)\n",
    "plt.ylabel('Frequency',size=40)\n",
    "plt.xticks(fontsize=25)\n",
    "plt.xticks(rotation=45)\n",
    "plt.yticks(fontsize=25)\n",
    "\n",
    "plt.show()"
   ]
  },
  {
   "cell_type": "code",
   "execution_count": null,
   "metadata": {},
   "outputs": [],
   "source": []
  },
  {
   "cell_type": "code",
   "execution_count": 138,
   "metadata": {
    "scrolled": true
   },
   "outputs": [
    {
     "name": "stdout",
     "output_type": "stream",
     "text": [
      "<class 'pandas.core.frame.DataFrame'>\n",
      "RangeIndex: 6848 entries, 0 to 6847\n",
      "Data columns (total 18 columns):\n",
      "Unnamed: 0           6848 non-null int64\n",
      "title                6848 non-null object\n",
      "adult                2194 non-null object\n",
      "genre_ids            2194 non-null object\n",
      "original_language    2194 non-null object\n",
      "popularity           2194 non-null float64\n",
      "release_date         2194 non-null object\n",
      "vote_average         2194 non-null float64\n",
      "vote_count           2194 non-null float64\n",
      "Date                 1889 non-null object\n",
      "Budget               1889 non-null object\n",
      "Rank                 3833 non-null float64\n",
      "Worldwide            5404 non-null float64\n",
      "Domestic             5404 non-null object\n",
      "%                    3833 non-null object\n",
      "Foreign              3833 non-null object\n",
      "%.1                  3833 non-null object\n",
      "Title                6848 non-null object\n",
      "dtypes: float64(5), int64(1), object(12)\n",
      "memory usage: 963.1+ KB\n"
     ]
    }
   ],
   "source": [
    "df.info()"
   ]
  },
  {
   "cell_type": "code",
   "execution_count": 250,
   "metadata": {},
   "outputs": [],
   "source": [
    "best_lang = best_rated_df['original_language'].value_counts().head(5)"
   ]
  },
  {
   "cell_type": "code",
   "execution_count": 254,
   "metadata": {
    "scrolled": true
   },
   "outputs": [
    {
     "data": {
      "text/html": [
       "<div>\n",
       "<style scoped>\n",
       "    .dataframe tbody tr th:only-of-type {\n",
       "        vertical-align: middle;\n",
       "    }\n",
       "\n",
       "    .dataframe tbody tr th {\n",
       "        vertical-align: top;\n",
       "    }\n",
       "\n",
       "    .dataframe thead th {\n",
       "        text-align: right;\n",
       "    }\n",
       "</style>\n",
       "<table border=\"1\" class=\"dataframe\">\n",
       "  <thead>\n",
       "    <tr style=\"text-align: right;\">\n",
       "      <th></th>\n",
       "      <th>Languages</th>\n",
       "      <th>Frequency</th>\n",
       "    </tr>\n",
       "  </thead>\n",
       "  <tbody>\n",
       "    <tr>\n",
       "      <td>0</td>\n",
       "      <td>English</td>\n",
       "      <td>162</td>\n",
       "    </tr>\n",
       "    <tr>\n",
       "      <td>1</td>\n",
       "      <td>Japanese</td>\n",
       "      <td>29</td>\n",
       "    </tr>\n",
       "    <tr>\n",
       "      <td>2</td>\n",
       "      <td>Italian</td>\n",
       "      <td>29</td>\n",
       "    </tr>\n",
       "    <tr>\n",
       "      <td>3</td>\n",
       "      <td>French</td>\n",
       "      <td>17</td>\n",
       "    </tr>\n",
       "    <tr>\n",
       "      <td>4</td>\n",
       "      <td>Portugese</td>\n",
       "      <td>8</td>\n",
       "    </tr>\n",
       "  </tbody>\n",
       "</table>\n",
       "</div>"
      ],
      "text/plain": [
       "   Languages  Frequency\n",
       "0    English        162\n",
       "1   Japanese         29\n",
       "2    Italian         29\n",
       "3     French         17\n",
       "4  Portugese          8"
      ]
     },
     "execution_count": 254,
     "metadata": {},
     "output_type": "execute_result"
    }
   ],
   "source": [
    "data_lang = [['English', 162], ['Japanese',29],['Italian',29],['French',17], ['Portugese', 8]] \n",
    "  \n",
    "# Create the pandas DataFrame \n",
    "df_language = pd.DataFrame(data_lang, columns = ['Languages', 'Frequency']) \n",
    "  \n",
    "# print dataframe. \n",
    "df_language"
   ]
  },
  {
   "cell_type": "code",
   "execution_count": 256,
   "metadata": {},
   "outputs": [],
   "source": [
    "x1 = df_language['Languages']\n",
    "y1 = df_language['Frequency']"
   ]
  },
  {
   "cell_type": "code",
   "execution_count": 257,
   "metadata": {},
   "outputs": [
    {
     "data": {
      "image/png": "[encoded data removed]",
      "text/plain": [
       "<Figure size 1800x720 with 1 Axes>"
      ]
     },
     "metadata": {
      "needs_background": "light"
     },
     "output_type": "display_data"
    }
   ],
   "source": [
    "plt.figure(figsize=(25,10))\n",
    "plt.bar(x1,y1,color='b')\n",
    "plt.title(\"Best Rated Films Original Languages\",size=60)\n",
    "plt.xlabel('Languages',size=40)\n",
    "plt.ylabel('Frequency',size=40)\n",
    "plt.xticks(fontsize=25)\n",
    "plt.xticks(rotation=45)\n",
    "plt.yticks(fontsize=25)\n",
    "\n",
    "plt.show()"
   ]
  },
  {
   "cell_type": "code",
   "execution_count": 74,
   "metadata": {},
   "outputs": [],
   "source": [
    "# df [df['Title'] == 'Avengers: Endgame']"
   ]
  },
  {
   "cell_type": "code",
   "execution_count": 47,
   "metadata": {},
   "outputs": [],
   "source": [
    "# df['Worldwide'] = df['Worldwide'].str.split(\"$\").str[1]\n",
    "# df['Domestic'] = df['Domestic'].str.split(\"$\").str[1]\n",
    "# # df['Budget'] = df['Budget'].str.split(\"$\").str[1]\n",
    "# df['Foreign'] = df['Foreign'].str.split(\"$\").str[1]\n",
    "# df['%'] = df['%'].str.split(\"%\").str[0]\n",
    "# df['%.1'] = df['%.1'].str.split(\"%\").str[0]"
   ]
  },
  {
   "cell_type": "code",
   "execution_count": 76,
   "metadata": {
    "scrolled": true
   },
   "outputs": [],
   "source": [
    "# df.info()"
   ]
  },
  {
   "cell_type": "code",
   "execution_count": 132,
   "metadata": {},
   "outputs": [],
   "source": [
    "# df['Worldwide'] = df['Worldwide'].str.replace('$','') \n",
    "# df['Worldwide'] = df['Worldwide'].str.replace(',','')\n",
    "# df['Domestic'] = df['Domestic'].str.replace('$','') \n",
    "# df['Domestic'] = df['Domestic'].str.replace(',','')\n",
    "# # df['Foreign'] = df['Foreign'].str.replace('$','') \n",
    "# # df['Foreign'] = df['Foreign'].str.replace(',','') \n",
    "# df['%'] = df['%'].str.replace('%','') \n",
    " \n"
   ]
  },
  {
   "cell_type": "code",
   "execution_count": 136,
   "metadata": {},
   "outputs": [],
   "source": [
    "# df['Worldwide'] = df['Worldwide'].astype(float)\n",
    "# df['Domestic'] = df['Domestic'].astype(float)\n",
    "# # df['%'] = df['%'].astype(float)\n",
    "# # df['%.1'] = df['%.1'].astype(float)\n",
    "# # # df['Domestic'] = pd.to_numeric(df['Domestic'],errors='ignore')\n",
    "# # df['Foreign'] = pd.to_numeric(df['Foreign'],errors='ignore')\n",
    "# #  df['Budget'] = pd.to_numeric(df['Budget'],errors='coerce')\n"
   ]
  },
  {
   "cell_type": "code",
   "execution_count": null,
   "metadata": {},
   "outputs": [],
   "source": []
  }
 ],
 "metadata": {
  "kernelspec": {
   "display_name": "learn-env",
   "language": "python",
   "name": "learn-env"
  },
  "language_info": {
   "codemirror_mode": {
    "name": "ipython",
    "version": 3
   },
   "file_extension": ".py",
   "mimetype": "text/x-python",
   "name": "python",
   "nbconvert_exporter": "python",
   "pygments_lexer": "ipython3",
   "version": "3.7.4"
  }
 },
 "nbformat": 4,
 "nbformat_minor": 2
}

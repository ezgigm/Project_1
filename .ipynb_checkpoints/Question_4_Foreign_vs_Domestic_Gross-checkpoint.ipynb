{
 "cells": [
  {
   "cell_type": "markdown",
   "metadata": {},
   "source": [
    "# Question 4: What are the best rated genres domestic and foreign percentages?"
   ]
  },
  {
   "cell_type": "markdown",
   "metadata": {},
   "source": [
    "We aim to find domestic and foreign gross percentages according to top rated movies.\n",
    "1. We set up 'Worldwide' and 'Domestic' columns\n",
    "\n",
    "2. Create a new foreign columns\n",
    "\n",
    "3. Calculate the percentages\n",
    "\n",
    "4. Find the domestic vs foreign percentages of top 3 genres according to vote average"
   ]
  },
  {
   "cell_type": "code",
   "execution_count": 1,
   "metadata": {},
   "outputs": [],
   "source": [
    "import pandas as pd  #we will use dataframe"
   ]
  },
  {
   "cell_type": "code",
   "execution_count": 2,
   "metadata": {},
   "outputs": [],
   "source": [
    "df = pd.read_csv('last_all_data.csv') #take our data set"
   ]
  },
  {
   "cell_type": "markdown",
   "metadata": {},
   "source": [
    "# Dropping Null Values"
   ]
  },
  {
   "cell_type": "code",
   "execution_count": 3,
   "metadata": {},
   "outputs": [],
   "source": [
    "df.dropna(subset=['Worldwide'],inplace=True) #drop null values for worldwide"
   ]
  },
  {
   "cell_type": "markdown",
   "metadata": {},
   "source": [
    "# Cleaning Necessary Columns"
   ]
  },
  {
   "cell_type": "code",
   "execution_count": 4,
   "metadata": {},
   "outputs": [],
   "source": [
    "df['Worldwide']=df['Worldwide'].str.replace('$','') #clean $ sign from column "
   ]
  },
  {
   "cell_type": "code",
   "execution_count": 5,
   "metadata": {},
   "outputs": [],
   "source": [
    "df['Worldwide']=df['Worldwide'].str.replace(',','') #clean (,) from column"
   ]
  },
  {
   "cell_type": "code",
   "execution_count": 6,
   "metadata": {},
   "outputs": [],
   "source": [
    "df['Worldwide']=df['Worldwide'].astype(int) #change the type to integer"
   ]
  },
  {
   "cell_type": "code",
   "execution_count": 7,
   "metadata": {},
   "outputs": [],
   "source": [
    "df = df[df.Domestic != '-'] #drop the (-) values in domestic "
   ]
  },
  {
   "cell_type": "code",
   "execution_count": 28,
   "metadata": {},
   "outputs": [],
   "source": [
    "df['Domestic'].unique() #to see values without ('-')"
   ]
  },
  {
   "cell_type": "code",
   "execution_count": 9,
   "metadata": {},
   "outputs": [],
   "source": [
    "df['Domestic']=df['Domestic'].str.replace('$','') #clean $ sign from column "
   ]
  },
  {
   "cell_type": "code",
   "execution_count": 10,
   "metadata": {},
   "outputs": [],
   "source": [
    "df['Domestic']=df['Domestic'].str.replace(',','') #clean (,) from column"
   ]
  },
  {
   "cell_type": "code",
   "execution_count": 11,
   "metadata": {},
   "outputs": [],
   "source": [
    "df['Domestic']=df['Domestic'].astype(int) #change the type to integer"
   ]
  },
  {
   "cell_type": "markdown",
   "metadata": {},
   "source": [
    "# Calculating and Creating New Column as Foreign New"
   ]
  },
  {
   "cell_type": "code",
   "execution_count": 12,
   "metadata": {},
   "outputs": [],
   "source": [
    "df['Foreign_new'] = df['Worldwide'] - df['Domestic'] #To find foreign gross"
   ]
  },
  {
   "cell_type": "code",
   "execution_count": 13,
   "metadata": {},
   "outputs": [],
   "source": [
    "df['Domestic %'] = (df['Domestic']*100)/df['Worldwide'] #percentage of domestic"
   ]
  },
  {
   "cell_type": "code",
   "execution_count": 14,
   "metadata": {},
   "outputs": [],
   "source": [
    "df['Foreign %'] = 100-df['Domestic %'] #percentage of foreign"
   ]
  },
  {
   "cell_type": "markdown",
   "metadata": {},
   "source": [
    "# Finding Domestic and Foreign Percentages of Dramas"
   ]
  },
  {
   "cell_type": "code",
   "execution_count": 15,
   "metadata": {},
   "outputs": [],
   "source": [
    "df['Drama'] = df['genre_ids'].str.contains('Drama') #Take the values which contains drama in new columns"
   ]
  },
  {
   "cell_type": "code",
   "execution_count": 16,
   "metadata": {},
   "outputs": [],
   "source": [
    "drama_df=df[df['Drama'] == True] #assign to new dataframe which drama contains"
   ]
  },
  {
   "cell_type": "code",
   "execution_count": 17,
   "metadata": {
    "scrolled": true
   },
   "outputs": [
    {
     "data": {
      "text/html": [
       "<div>\n",
       "<style scoped>\n",
       "    .dataframe tbody tr th:only-of-type {\n",
       "        vertical-align: middle;\n",
       "    }\n",
       "\n",
       "    .dataframe tbody tr th {\n",
       "        vertical-align: top;\n",
       "    }\n",
       "\n",
       "    .dataframe thead th {\n",
       "        text-align: right;\n",
       "    }\n",
       "</style>\n",
       "<table border=\"1\" class=\"dataframe\">\n",
       "  <thead>\n",
       "    <tr style=\"text-align: right;\">\n",
       "      <th></th>\n",
       "      <th>Unnamed: 0</th>\n",
       "      <th>popularity</th>\n",
       "      <th>vote_average</th>\n",
       "      <th>vote_count</th>\n",
       "      <th>Rank</th>\n",
       "      <th>Worldwide</th>\n",
       "      <th>Domestic</th>\n",
       "      <th>Foreign_new</th>\n",
       "      <th>Domestic %</th>\n",
       "      <th>Foreign %</th>\n",
       "    </tr>\n",
       "  </thead>\n",
       "  <tbody>\n",
       "    <tr>\n",
       "      <td>count</td>\n",
       "      <td>333.000000</td>\n",
       "      <td>333.000000</td>\n",
       "      <td>333.000000</td>\n",
       "      <td>333.000000</td>\n",
       "      <td>172.000000</td>\n",
       "      <td>3.330000e+02</td>\n",
       "      <td>3.330000e+02</td>\n",
       "      <td>3.330000e+02</td>\n",
       "      <td>333.000000</td>\n",
       "      <td>333.000000</td>\n",
       "    </tr>\n",
       "    <tr>\n",
       "      <td>mean</td>\n",
       "      <td>3496.453453</td>\n",
       "      <td>16.642988</td>\n",
       "      <td>7.419219</td>\n",
       "      <td>3357.630631</td>\n",
       "      <td>170.895349</td>\n",
       "      <td>1.977561e+08</td>\n",
       "      <td>8.145580e+07</td>\n",
       "      <td>1.163003e+08</td>\n",
       "      <td>45.285845</td>\n",
       "      <td>54.714155</td>\n",
       "    </tr>\n",
       "    <tr>\n",
       "      <td>std</td>\n",
       "      <td>1971.013578</td>\n",
       "      <td>12.944268</td>\n",
       "      <td>0.576646</td>\n",
       "      <td>3873.372535</td>\n",
       "      <td>152.674215</td>\n",
       "      <td>2.490572e+08</td>\n",
       "      <td>9.328197e+07</td>\n",
       "      <td>1.679852e+08</td>\n",
       "      <td>25.924212</td>\n",
       "      <td>25.924212</td>\n",
       "    </tr>\n",
       "    <tr>\n",
       "      <td>min</td>\n",
       "      <td>29.000000</td>\n",
       "      <td>0.600000</td>\n",
       "      <td>5.500000</td>\n",
       "      <td>73.000000</td>\n",
       "      <td>2.000000</td>\n",
       "      <td>2.187700e+04</td>\n",
       "      <td>0.000000e+00</td>\n",
       "      <td>0.000000e+00</td>\n",
       "      <td>0.000000</td>\n",
       "      <td>0.000000</td>\n",
       "    </tr>\n",
       "    <tr>\n",
       "      <td>25%</td>\n",
       "      <td>1741.000000</td>\n",
       "      <td>10.832000</td>\n",
       "      <td>7.300000</td>\n",
       "      <td>708.000000</td>\n",
       "      <td>54.750000</td>\n",
       "      <td>2.736547e+07</td>\n",
       "      <td>6.735118e+06</td>\n",
       "      <td>9.400630e+06</td>\n",
       "      <td>31.234733</td>\n",
       "      <td>42.211085</td>\n",
       "    </tr>\n",
       "    <tr>\n",
       "      <td>50%</td>\n",
       "      <td>3538.000000</td>\n",
       "      <td>13.511000</td>\n",
       "      <td>7.500000</td>\n",
       "      <td>1909.000000</td>\n",
       "      <td>132.500000</td>\n",
       "      <td>1.205562e+08</td>\n",
       "      <td>5.569121e+07</td>\n",
       "      <td>5.983214e+07</td>\n",
       "      <td>43.054594</td>\n",
       "      <td>56.945406</td>\n",
       "    </tr>\n",
       "    <tr>\n",
       "      <td>75%</td>\n",
       "      <td>5303.000000</td>\n",
       "      <td>18.483000</td>\n",
       "      <td>7.800000</td>\n",
       "      <td>4459.000000</td>\n",
       "      <td>243.250000</td>\n",
       "      <td>2.666852e+08</td>\n",
       "      <td>1.220127e+08</td>\n",
       "      <td>1.505707e+08</td>\n",
       "      <td>57.788915</td>\n",
       "      <td>68.765267</td>\n",
       "    </tr>\n",
       "    <tr>\n",
       "      <td>max</td>\n",
       "      <td>6888.000000</td>\n",
       "      <td>148.987000</td>\n",
       "      <td>8.600000</td>\n",
       "      <td>21095.000000</td>\n",
       "      <td>760.000000</td>\n",
       "      <td>2.208208e+09</td>\n",
       "      <td>6.593639e+08</td>\n",
       "      <td>1.548844e+09</td>\n",
       "      <td>100.000000</td>\n",
       "      <td>100.000000</td>\n",
       "    </tr>\n",
       "  </tbody>\n",
       "</table>\n",
       "</div>"
      ],
      "text/plain": [
       "        Unnamed: 0  popularity  vote_average    vote_count        Rank  \\\n",
       "count   333.000000  333.000000    333.000000    333.000000  172.000000   \n",
       "mean   3496.453453   16.642988      7.419219   3357.630631  170.895349   \n",
       "std    1971.013578   12.944268      0.576646   3873.372535  152.674215   \n",
       "min      29.000000    0.600000      5.500000     73.000000    2.000000   \n",
       "25%    1741.000000   10.832000      7.300000    708.000000   54.750000   \n",
       "50%    3538.000000   13.511000      7.500000   1909.000000  132.500000   \n",
       "75%    5303.000000   18.483000      7.800000   4459.000000  243.250000   \n",
       "max    6888.000000  148.987000      8.600000  21095.000000  760.000000   \n",
       "\n",
       "          Worldwide      Domestic   Foreign_new  Domestic %   Foreign %  \n",
       "count  3.330000e+02  3.330000e+02  3.330000e+02  333.000000  333.000000  \n",
       "mean   1.977561e+08  8.145580e+07  1.163003e+08   45.285845   54.714155  \n",
       "std    2.490572e+08  9.328197e+07  1.679852e+08   25.924212   25.924212  \n",
       "min    2.187700e+04  0.000000e+00  0.000000e+00    0.000000    0.000000  \n",
       "25%    2.736547e+07  6.735118e+06  9.400630e+06   31.234733   42.211085  \n",
       "50%    1.205562e+08  5.569121e+07  5.983214e+07   43.054594   56.945406  \n",
       "75%    2.666852e+08  1.220127e+08  1.505707e+08   57.788915   68.765267  \n",
       "max    2.208208e+09  6.593639e+08  1.548844e+09  100.000000  100.000000  "
      ]
     },
     "execution_count": 17,
     "metadata": {},
     "output_type": "execute_result"
    }
   ],
   "source": [
    "drama_df.describe() #see the mean of percentages"
   ]
  },
  {
   "cell_type": "code",
   "execution_count": 18,
   "metadata": {},
   "outputs": [],
   "source": [
    "import numpy as np #import necessart items\n",
    "\n",
    "import seaborn as sns; sns.set()\n",
    "import matplotlib.pyplot as plt\n",
    "%matplotlib inline\n",
    "import matplotlib as mpl"
   ]
  },
  {
   "cell_type": "code",
   "execution_count": 29,
   "metadata": {},
   "outputs": [
    {
     "data": {
      "image/png": "[encoded data removed]",
      "text/plain": [
       "<Figure size 432x288 with 1 Axes>"
      ]
     },
     "metadata": {},
     "output_type": "display_data"
    }
   ],
   "source": [
    "my_data = [45.285845,54.714155]  #percentages\n",
    "my_labels = 'Domestic','Foreign' # labels\n",
    "plt.pie(my_data,labels=my_labels,autopct='%1.1f%%', textprops={'fontsize': 20}) #plot pie type and bigger the labels\n",
    "plt.title('Domestic vs Foreign for Drama',fontsize=40) #set title\n",
    "plt.axis('equal')\n",
    "mpl.rcParams.update({'font.size': 20}) #bigger percentage labels\n",
    "\n",
    "plt.show()"
   ]
  },
  {
   "cell_type": "markdown",
   "metadata": {},
   "source": [
    "The above pie chart shows the percentage of foreign gross higher than the domestic gross"
   ]
  },
  {
   "cell_type": "markdown",
   "metadata": {},
   "source": [
    "# Finding Domestic and Foreign Percentages of Comedy"
   ]
  },
  {
   "cell_type": "code",
   "execution_count": 20,
   "metadata": {},
   "outputs": [],
   "source": [
    "df['Comedy'] = df['genre_ids'].str.contains('Comedy') #Take the values which contains comedy in new columns"
   ]
  },
  {
   "cell_type": "code",
   "execution_count": 21,
   "metadata": {},
   "outputs": [],
   "source": [
    "comedy_df=df[df['Comedy'] == True] #assign to new dataframe which comedy contains"
   ]
  },
  {
   "cell_type": "code",
   "execution_count": 22,
   "metadata": {},
   "outputs": [
    {
     "data": {
      "text/html": [
       "<div>\n",
       "<style scoped>\n",
       "    .dataframe tbody tr th:only-of-type {\n",
       "        vertical-align: middle;\n",
       "    }\n",
       "\n",
       "    .dataframe tbody tr th {\n",
       "        vertical-align: top;\n",
       "    }\n",
       "\n",
       "    .dataframe thead th {\n",
       "        text-align: right;\n",
       "    }\n",
       "</style>\n",
       "<table border=\"1\" class=\"dataframe\">\n",
       "  <thead>\n",
       "    <tr style=\"text-align: right;\">\n",
       "      <th></th>\n",
       "      <th>Unnamed: 0</th>\n",
       "      <th>popularity</th>\n",
       "      <th>vote_average</th>\n",
       "      <th>vote_count</th>\n",
       "      <th>Rank</th>\n",
       "      <th>Worldwide</th>\n",
       "      <th>Domestic</th>\n",
       "      <th>Foreign_new</th>\n",
       "      <th>Domestic %</th>\n",
       "      <th>Foreign %</th>\n",
       "    </tr>\n",
       "  </thead>\n",
       "  <tbody>\n",
       "    <tr>\n",
       "      <td>count</td>\n",
       "      <td>205.000000</td>\n",
       "      <td>205.000000</td>\n",
       "      <td>205.000000</td>\n",
       "      <td>205.000000</td>\n",
       "      <td>75.000000</td>\n",
       "      <td>2.050000e+02</td>\n",
       "      <td>2.050000e+02</td>\n",
       "      <td>2.050000e+02</td>\n",
       "      <td>205.000000</td>\n",
       "      <td>205.000000</td>\n",
       "    </tr>\n",
       "    <tr>\n",
       "      <td>mean</td>\n",
       "      <td>3299.785366</td>\n",
       "      <td>17.544522</td>\n",
       "      <td>6.945366</td>\n",
       "      <td>4170.892683</td>\n",
       "      <td>110.933333</td>\n",
       "      <td>3.480524e+08</td>\n",
       "      <td>1.383965e+08</td>\n",
       "      <td>2.096559e+08</td>\n",
       "      <td>44.041186</td>\n",
       "      <td>55.958814</td>\n",
       "    </tr>\n",
       "    <tr>\n",
       "      <td>std</td>\n",
       "      <td>1885.793403</td>\n",
       "      <td>13.624810</td>\n",
       "      <td>0.757149</td>\n",
       "      <td>3712.512800</td>\n",
       "      <td>143.595277</td>\n",
       "      <td>2.723106e+08</td>\n",
       "      <td>1.039421e+08</td>\n",
       "      <td>1.877271e+08</td>\n",
       "      <td>20.763283</td>\n",
       "      <td>20.763283</td>\n",
       "    </tr>\n",
       "    <tr>\n",
       "      <td>min</td>\n",
       "      <td>123.000000</td>\n",
       "      <td>4.414000</td>\n",
       "      <td>4.300000</td>\n",
       "      <td>31.000000</td>\n",
       "      <td>3.000000</td>\n",
       "      <td>2.993000e+03</td>\n",
       "      <td>2.993000e+03</td>\n",
       "      <td>0.000000e+00</td>\n",
       "      <td>0.104497</td>\n",
       "      <td>0.000000</td>\n",
       "    </tr>\n",
       "    <tr>\n",
       "      <td>25%</td>\n",
       "      <td>1624.000000</td>\n",
       "      <td>11.839000</td>\n",
       "      <td>6.400000</td>\n",
       "      <td>1589.000000</td>\n",
       "      <td>14.500000</td>\n",
       "      <td>1.264251e+08</td>\n",
       "      <td>5.842265e+07</td>\n",
       "      <td>5.532092e+07</td>\n",
       "      <td>31.568723</td>\n",
       "      <td>47.128274</td>\n",
       "    </tr>\n",
       "    <tr>\n",
       "      <td>50%</td>\n",
       "      <td>3300.000000</td>\n",
       "      <td>14.180000</td>\n",
       "      <td>7.000000</td>\n",
       "      <td>2938.000000</td>\n",
       "      <td>54.000000</td>\n",
       "      <td>3.027106e+08</td>\n",
       "      <td>1.305312e+08</td>\n",
       "      <td>1.609633e+08</td>\n",
       "      <td>43.389663</td>\n",
       "      <td>56.610337</td>\n",
       "    </tr>\n",
       "    <tr>\n",
       "      <td>75%</td>\n",
       "      <td>4673.000000</td>\n",
       "      <td>18.877000</td>\n",
       "      <td>7.500000</td>\n",
       "      <td>5486.000000</td>\n",
       "      <td>163.500000</td>\n",
       "      <td>5.165676e+08</td>\n",
       "      <td>1.917962e+08</td>\n",
       "      <td>3.173244e+08</td>\n",
       "      <td>52.871726</td>\n",
       "      <td>68.431277</td>\n",
       "    </tr>\n",
       "    <tr>\n",
       "      <td>max</td>\n",
       "      <td>6896.000000</td>\n",
       "      <td>148.987000</td>\n",
       "      <td>8.600000</td>\n",
       "      <td>21908.000000</td>\n",
       "      <td>708.000000</td>\n",
       "      <td>1.159398e+09</td>\n",
       "      <td>4.862956e+08</td>\n",
       "      <td>8.233526e+08</td>\n",
       "      <td>100.000000</td>\n",
       "      <td>99.895503</td>\n",
       "    </tr>\n",
       "  </tbody>\n",
       "</table>\n",
       "</div>"
      ],
      "text/plain": [
       "        Unnamed: 0  popularity  vote_average    vote_count        Rank  \\\n",
       "count   205.000000  205.000000    205.000000    205.000000   75.000000   \n",
       "mean   3299.785366   17.544522      6.945366   4170.892683  110.933333   \n",
       "std    1885.793403   13.624810      0.757149   3712.512800  143.595277   \n",
       "min     123.000000    4.414000      4.300000     31.000000    3.000000   \n",
       "25%    1624.000000   11.839000      6.400000   1589.000000   14.500000   \n",
       "50%    3300.000000   14.180000      7.000000   2938.000000   54.000000   \n",
       "75%    4673.000000   18.877000      7.500000   5486.000000  163.500000   \n",
       "max    6896.000000  148.987000      8.600000  21908.000000  708.000000   \n",
       "\n",
       "          Worldwide      Domestic   Foreign_new  Domestic %   Foreign %  \n",
       "count  2.050000e+02  2.050000e+02  2.050000e+02  205.000000  205.000000  \n",
       "mean   3.480524e+08  1.383965e+08  2.096559e+08   44.041186   55.958814  \n",
       "std    2.723106e+08  1.039421e+08  1.877271e+08   20.763283   20.763283  \n",
       "min    2.993000e+03  2.993000e+03  0.000000e+00    0.104497    0.000000  \n",
       "25%    1.264251e+08  5.842265e+07  5.532092e+07   31.568723   47.128274  \n",
       "50%    3.027106e+08  1.305312e+08  1.609633e+08   43.389663   56.610337  \n",
       "75%    5.165676e+08  1.917962e+08  3.173244e+08   52.871726   68.431277  \n",
       "max    1.159398e+09  4.862956e+08  8.233526e+08  100.000000   99.895503  "
      ]
     },
     "execution_count": 22,
     "metadata": {},
     "output_type": "execute_result"
    }
   ],
   "source": [
    "comedy_df.describe() #see the mean of percentages"
   ]
  },
  {
   "cell_type": "code",
   "execution_count": 30,
   "metadata": {},
   "outputs": [
    {
     "data": {
      "image/png": "[encoded data removed]",
      "text/plain": [
       "<Figure size 432x288 with 1 Axes>"
      ]
     },
     "metadata": {},
     "output_type": "display_data"
    }
   ],
   "source": [
    "my_data = [44.041186,55.958814]\n",
    "my_labels = 'Domestic','Foreign'\n",
    "plt.pie(my_data,labels=my_labels,autopct='%1.1f%%', textprops={'fontsize': 20})\n",
    "plt.title('Domestic vs Foreign for Comedy',fontsize=40)\n",
    "plt.axis('equal')\n",
    "mpl.rcParams.update({'font.size': 20})\n",
    "\n",
    "plt.show()"
   ]
  },
  {
   "cell_type": "markdown",
   "metadata": {},
   "source": [
    "The above pie chart shows that the Foreign comedy revenue is higher than the domestic comedy revenue."
   ]
  },
  {
   "cell_type": "markdown",
   "metadata": {},
   "source": [
    "# Finding Domestic and Foreign Percentages of Comedy"
   ]
  },
  {
   "cell_type": "code",
   "execution_count": 24,
   "metadata": {},
   "outputs": [],
   "source": [
    "df['Crime'] = df['genre_ids'].str.contains('Crime') #Take the values which contains crime in new columns"
   ]
  },
  {
   "cell_type": "code",
   "execution_count": 25,
   "metadata": {},
   "outputs": [],
   "source": [
    "crime_df=df[df['Crime'] == True] #assign to new dataframe which crime contains"
   ]
  },
  {
   "cell_type": "code",
   "execution_count": 26,
   "metadata": {},
   "outputs": [
    {
     "data": {
      "text/html": [
       "<div>\n",
       "<style scoped>\n",
       "    .dataframe tbody tr th:only-of-type {\n",
       "        vertical-align: middle;\n",
       "    }\n",
       "\n",
       "    .dataframe tbody tr th {\n",
       "        vertical-align: top;\n",
       "    }\n",
       "\n",
       "    .dataframe thead th {\n",
       "        text-align: right;\n",
       "    }\n",
       "</style>\n",
       "<table border=\"1\" class=\"dataframe\">\n",
       "  <thead>\n",
       "    <tr style=\"text-align: right;\">\n",
       "      <th></th>\n",
       "      <th>Unnamed: 0</th>\n",
       "      <th>popularity</th>\n",
       "      <th>vote_average</th>\n",
       "      <th>vote_count</th>\n",
       "      <th>Rank</th>\n",
       "      <th>Worldwide</th>\n",
       "      <th>Domestic</th>\n",
       "      <th>Foreign_new</th>\n",
       "      <th>Domestic %</th>\n",
       "      <th>Foreign %</th>\n",
       "    </tr>\n",
       "  </thead>\n",
       "  <tbody>\n",
       "    <tr>\n",
       "      <td>count</td>\n",
       "      <td>88.000000</td>\n",
       "      <td>88.000000</td>\n",
       "      <td>88.000000</td>\n",
       "      <td>88.000000</td>\n",
       "      <td>27.000000</td>\n",
       "      <td>8.800000e+01</td>\n",
       "      <td>8.800000e+01</td>\n",
       "      <td>8.800000e+01</td>\n",
       "      <td>88.000000</td>\n",
       "      <td>88.000000</td>\n",
       "    </tr>\n",
       "    <tr>\n",
       "      <td>mean</td>\n",
       "      <td>3513.204545</td>\n",
       "      <td>16.853364</td>\n",
       "      <td>7.151136</td>\n",
       "      <td>4158.261364</td>\n",
       "      <td>115.962963</td>\n",
       "      <td>2.591044e+08</td>\n",
       "      <td>1.114215e+08</td>\n",
       "      <td>1.476829e+08</td>\n",
       "      <td>46.153909</td>\n",
       "      <td>53.846091</td>\n",
       "    </tr>\n",
       "    <tr>\n",
       "      <td>std</td>\n",
       "      <td>1925.355278</td>\n",
       "      <td>14.165550</td>\n",
       "      <td>0.676365</td>\n",
       "      <td>4000.342656</td>\n",
       "      <td>111.494561</td>\n",
       "      <td>2.500721e+08</td>\n",
       "      <td>9.354984e+07</td>\n",
       "      <td>1.732279e+08</td>\n",
       "      <td>20.621087</td>\n",
       "      <td>20.621087</td>\n",
       "    </tr>\n",
       "    <tr>\n",
       "      <td>min</td>\n",
       "      <td>34.000000</td>\n",
       "      <td>1.482000</td>\n",
       "      <td>5.300000</td>\n",
       "      <td>129.000000</td>\n",
       "      <td>3.000000</td>\n",
       "      <td>1.131640e+05</td>\n",
       "      <td>0.000000e+00</td>\n",
       "      <td>0.000000e+00</td>\n",
       "      <td>0.000000</td>\n",
       "      <td>0.000000</td>\n",
       "    </tr>\n",
       "    <tr>\n",
       "      <td>25%</td>\n",
       "      <td>1710.750000</td>\n",
       "      <td>11.247750</td>\n",
       "      <td>6.600000</td>\n",
       "      <td>1610.750000</td>\n",
       "      <td>35.000000</td>\n",
       "      <td>9.126873e+07</td>\n",
       "      <td>4.231747e+07</td>\n",
       "      <td>4.396911e+07</td>\n",
       "      <td>34.523312</td>\n",
       "      <td>45.174521</td>\n",
       "    </tr>\n",
       "    <tr>\n",
       "      <td>50%</td>\n",
       "      <td>3931.500000</td>\n",
       "      <td>14.049000</td>\n",
       "      <td>7.300000</td>\n",
       "      <td>2872.500000</td>\n",
       "      <td>84.000000</td>\n",
       "      <td>2.064839e+08</td>\n",
       "      <td>1.031273e+08</td>\n",
       "      <td>1.055362e+08</td>\n",
       "      <td>45.862564</td>\n",
       "      <td>54.137436</td>\n",
       "    </tr>\n",
       "    <tr>\n",
       "      <td>75%</td>\n",
       "      <td>5272.000000</td>\n",
       "      <td>19.173000</td>\n",
       "      <td>7.600000</td>\n",
       "      <td>5033.500000</td>\n",
       "      <td>154.000000</td>\n",
       "      <td>3.380010e+08</td>\n",
       "      <td>1.473147e+08</td>\n",
       "      <td>1.604171e+08</td>\n",
       "      <td>54.825479</td>\n",
       "      <td>65.476688</td>\n",
       "    </tr>\n",
       "    <tr>\n",
       "      <td>max</td>\n",
       "      <td>6888.000000</td>\n",
       "      <td>98.649000</td>\n",
       "      <td>8.500000</td>\n",
       "      <td>21095.000000</td>\n",
       "      <td>489.000000</td>\n",
       "      <td>1.236005e+09</td>\n",
       "      <td>5.352340e+08</td>\n",
       "      <td>1.009997e+09</td>\n",
       "      <td>100.000000</td>\n",
       "      <td>100.000000</td>\n",
       "    </tr>\n",
       "  </tbody>\n",
       "</table>\n",
       "</div>"
      ],
      "text/plain": [
       "        Unnamed: 0  popularity  vote_average    vote_count        Rank  \\\n",
       "count    88.000000   88.000000     88.000000     88.000000   27.000000   \n",
       "mean   3513.204545   16.853364      7.151136   4158.261364  115.962963   \n",
       "std    1925.355278   14.165550      0.676365   4000.342656  111.494561   \n",
       "min      34.000000    1.482000      5.300000    129.000000    3.000000   \n",
       "25%    1710.750000   11.247750      6.600000   1610.750000   35.000000   \n",
       "50%    3931.500000   14.049000      7.300000   2872.500000   84.000000   \n",
       "75%    5272.000000   19.173000      7.600000   5033.500000  154.000000   \n",
       "max    6888.000000   98.649000      8.500000  21095.000000  489.000000   \n",
       "\n",
       "          Worldwide      Domestic   Foreign_new  Domestic %   Foreign %  \n",
       "count  8.800000e+01  8.800000e+01  8.800000e+01   88.000000   88.000000  \n",
       "mean   2.591044e+08  1.114215e+08  1.476829e+08   46.153909   53.846091  \n",
       "std    2.500721e+08  9.354984e+07  1.732279e+08   20.621087   20.621087  \n",
       "min    1.131640e+05  0.000000e+00  0.000000e+00    0.000000    0.000000  \n",
       "25%    9.126873e+07  4.231747e+07  4.396911e+07   34.523312   45.174521  \n",
       "50%    2.064839e+08  1.031273e+08  1.055362e+08   45.862564   54.137436  \n",
       "75%    3.380010e+08  1.473147e+08  1.604171e+08   54.825479   65.476688  \n",
       "max    1.236005e+09  5.352340e+08  1.009997e+09  100.000000  100.000000  "
      ]
     },
     "execution_count": 26,
     "metadata": {},
     "output_type": "execute_result"
    }
   ],
   "source": [
    "crime_df.describe() #see the mean of percentages"
   ]
  },
  {
   "cell_type": "code",
   "execution_count": 31,
   "metadata": {},
   "outputs": [
    {
     "data": {
      "image/png": "[encoded data removed]",
      "text/plain": [
       "<Figure size 432x288 with 1 Axes>"
      ]
     },
     "metadata": {},
     "output_type": "display_data"
    }
   ],
   "source": [
    "my_data = [46.153909,53.846091]\n",
    "my_labels = 'Domestic','Foreign'\n",
    "plt.pie(my_data,labels=my_labels,autopct='%1.1f%%', textprops={'fontsize': 20})\n",
    "plt.title('Domestic vs Foreign for Crime',fontsize=40)\n",
    "plt.axis('equal')\n",
    "mpl.rcParams.update({'font.size': 20})\n",
    "\n",
    "plt.show()"
   ]
  },
  {
   "cell_type": "markdown",
   "metadata": {},
   "source": [
    "The above pie chart shows that the Foreign crime revenue is higher than the domestic crime revenue. All the plots here show that movies are making good revenues outside the country too."
   ]
  }
 ],
 "metadata": {
  "kernelspec": {
   "display_name": "learn-env",
   "language": "python",
   "name": "learn-env"
  },
  "language_info": {
   "codemirror_mode": {
    "name": "ipython",
    "version": 3
   },
   "file_extension": ".py",
   "mimetype": "text/x-python",
   "name": "python",
   "nbconvert_exporter": "python",
   "pygments_lexer": "ipython3",
   "version": "3.7.4"
  }
 },
 "nbformat": 4,
 "nbformat_minor": 2
}
